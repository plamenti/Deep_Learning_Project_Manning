{
  "nbformat": 4,
  "nbformat_minor": 0,
  "metadata": {
    "colab": {
      "name": "01.first_steps_tensorflow.ipynb",
      "provenance": []
    },
    "kernelspec": {
      "name": "python3",
      "display_name": "Python 3"
    }
  },
  "cells": [
    {
      "cell_type": "code",
      "metadata": {
        "id": "qlEXMCKkIpYI"
      },
      "source": [
        "import numpy as np\r\n",
        "import pandas as pd\r\n",
        "import matplotlib.pyplot as plt\r\n",
        "\r\n",
        "import tensorflow as tf"
      ],
      "execution_count": 11,
      "outputs": []
    },
    {
      "cell_type": "markdown",
      "metadata": {
        "id": "J8l_K3M9IrX8"
      },
      "source": [
        "**First**, low-level tensor manipulation — the infrastructure that underlies all modern machine learning. This translates to TensorFlow APIs:\r\n",
        "\r\n",
        "**Tensors**, including special tensors that store the network’s state (variables)\r\n",
        "\r\n",
        "**Tensor operations** such as addition, relu, matmul\r\n",
        "\r\n",
        "**Backpropagation**, a way to compute the gradient of mathematical expressions (handled in TensorFlow via the GradientTape object)\r\n",
        "\r\n",
        "**Second**, high-level deep learning concepts. This translates to Keras APIs:\r\n",
        "\r\n",
        "**Layers**, which are combined into a model\r\n",
        "\r\n",
        "**A loss function**, which defines the feedback signal used for learning\r\n",
        "\r\n",
        "**An optimizer**, which determines how learning proceeds\r\n",
        "\r\n",
        "**Metrics** to evaluate model performance, such as accuracy\r\n",
        "\r\n",
        "**A training loop** that performs mini-batch stochastic gradient descent"
      ]
    },
    {
      "cell_type": "markdown",
      "metadata": {
        "id": "j0sP7E6kJu3w"
      },
      "source": [
        "### Constant tensors and Variables\r\n",
        "\r\n",
        "Tensors need to be created with some initial value, so common ways to create tensors are:"
      ]
    },
    {
      "cell_type": "code",
      "metadata": {
        "colab": {
          "base_uri": "https://localhost:8080/"
        },
        "id": "78mKHspgJBDZ",
        "outputId": "2697c52c-433f-433c-f53b-63b0d3fe8718"
      },
      "source": [
        "\r\n",
        "x = tf.ones(shape=(2, 1)) # equivalent to np.ones(shape=(2, 1))\r\n",
        "print(x)\r\n",
        "x = tf.zeros(shape=(2, 1))  # # equivalent to np.zeros(shape=(2, 1))\r\n",
        "print(x)\r\n"
      ],
      "execution_count": 19,
      "outputs": [
        {
          "output_type": "stream",
          "text": [
            "tf.Tensor(\n",
            "[[1.]\n",
            " [1.]], shape=(2, 1), dtype=float32)\n",
            "tf.Tensor(\n",
            "[[0.]\n",
            " [0.]], shape=(2, 1), dtype=float32)\n"
          ],
          "name": "stdout"
        }
      ]
    },
    {
      "cell_type": "code",
      "metadata": {
        "colab": {
          "base_uri": "https://localhost:8080/"
        },
        "id": "Q40bux4hJ_zH",
        "outputId": "44f518a7-4ad6-4f2e-fbc6-48a5795a8525"
      },
      "source": [
        "x = tf.random.normal(shape=(3, 1), mean=0., stddev=1.)  # tensor of random values drawn from normal distribution with mean 0 and std deviation 1, equivalent to np.random.normal(size=(3, 1), loc=0, scale=1)\r\n",
        "print(x)"
      ],
      "execution_count": 21,
      "outputs": [
        {
          "output_type": "stream",
          "text": [
            "tf.Tensor(\n",
            "[[ 0.6002201]\n",
            " [-0.5588277]\n",
            " [-0.6974723]], shape=(3, 1), dtype=float32)\n"
          ],
          "name": "stdout"
        }
      ]
    },
    {
      "cell_type": "code",
      "metadata": {
        "colab": {
          "base_uri": "https://localhost:8080/"
        },
        "id": "2MYIUdd9Mopl",
        "outputId": "59dc68e2-b4aa-43d4-81b6-95651500859e"
      },
      "source": [
        "x = tf.random.uniform(shape=(3, 1), minval=0., maxval=1.) # tensor of random values drawn from a uniform distribution between 0 and 1, equivalent to np.random.uniform(size=(3, 1), low=0, high=1)\r\n",
        "print(x)"
      ],
      "execution_count": 22,
      "outputs": [
        {
          "output_type": "stream",
          "text": [
            "tf.Tensor(\n",
            "[[0.6912353]\n",
            " [0.1240232]\n",
            " [0.6356293]], shape=(3, 1), dtype=float32)\n"
          ],
          "name": "stdout"
        }
      ]
    },
    {
      "cell_type": "markdown",
      "metadata": {
        "id": "c5x0EOBaNgyQ"
      },
      "source": [
        "A significant difference between NumPy arrays and TensorFlow tensors is that TensorFlow tensors aren’t assignable: they’re constant. For instance, in NumPy, you can do:"
      ]
    },
    {
      "cell_type": "code",
      "metadata": {
        "colab": {
          "base_uri": "https://localhost:8080/"
        },
        "id": "YUNoL60fNTZb",
        "outputId": "352ce32a-3f9b-4337-d37e-3578a60adbf0"
      },
      "source": [
        "x = np.ones(shape=(2, 2))\r\n",
        "x[0, 0] = 0\r\n",
        "x"
      ],
      "execution_count": 26,
      "outputs": [
        {
          "output_type": "execute_result",
          "data": {
            "text/plain": [
              "array([[0., 1.],\n",
              "       [1., 1.]])"
            ]
          },
          "metadata": {
            "tags": []
          },
          "execution_count": 26
        }
      ]
    },
    {
      "cell_type": "markdown",
      "metadata": {
        "id": "GidqMsaFNweE"
      },
      "source": [
        "in TensorFlow there is an error, \"EagerTensor object does not support item assignment\"."
      ]
    },
    {
      "cell_type": "code",
      "metadata": {
        "colab": {
          "base_uri": "https://localhost:8080/",
          "height": 180
        },
        "id": "IG1Hn_DLNmQa",
        "outputId": "086e3807-3cf9-438a-aa37-22df41ed68eb"
      },
      "source": [
        "x = tf.ones(shape=(2, 2))\r\n",
        "x[0, 0] = 0"
      ],
      "execution_count": 28,
      "outputs": [
        {
          "output_type": "error",
          "ename": "TypeError",
          "evalue": "ignored",
          "traceback": [
            "\u001b[0;31m---------------------------------------------------------------------------\u001b[0m",
            "\u001b[0;31mTypeError\u001b[0m                                 Traceback (most recent call last)",
            "\u001b[0;32m<ipython-input-28-af6a00bc340f>\u001b[0m in \u001b[0;36m<module>\u001b[0;34m()\u001b[0m\n\u001b[1;32m      1\u001b[0m \u001b[0mx\u001b[0m \u001b[0;34m=\u001b[0m \u001b[0mtf\u001b[0m\u001b[0;34m.\u001b[0m\u001b[0mones\u001b[0m\u001b[0;34m(\u001b[0m\u001b[0mshape\u001b[0m\u001b[0;34m=\u001b[0m\u001b[0;34m(\u001b[0m\u001b[0;36m2\u001b[0m\u001b[0;34m,\u001b[0m \u001b[0;36m2\u001b[0m\u001b[0;34m)\u001b[0m\u001b[0;34m)\u001b[0m\u001b[0;34m\u001b[0m\u001b[0;34m\u001b[0m\u001b[0m\n\u001b[0;32m----> 2\u001b[0;31m \u001b[0mx\u001b[0m\u001b[0;34m[\u001b[0m\u001b[0;36m0\u001b[0m\u001b[0;34m,\u001b[0m \u001b[0;36m0\u001b[0m\u001b[0;34m]\u001b[0m \u001b[0;34m=\u001b[0m \u001b[0;36m0\u001b[0m\u001b[0;34m\u001b[0m\u001b[0;34m\u001b[0m\u001b[0m\n\u001b[0m",
            "\u001b[0;31mTypeError\u001b[0m: 'tensorflow.python.framework.ops.EagerTensor' object does not support item assignment"
          ]
        }
      ]
    },
    {
      "cell_type": "markdown",
      "metadata": {
        "id": "2s_TArl2OJp-"
      },
      "source": [
        "To train a model, we’ll need to update its state, which is a set of tensors. If tensors aren’t assignable, how do we do it, then? That’s where variables come in. tf.Variable is the class meant to manage modifiable state in TensorFlow. "
      ]
    },
    {
      "cell_type": "code",
      "metadata": {
        "colab": {
          "base_uri": "https://localhost:8080/"
        },
        "id": "OSW48rusN5Mr",
        "outputId": "17b47672-77e0-410d-847f-d7ba03317e29"
      },
      "source": [
        "v = tf.Variable(initial_value=tf.ones(shape=(2, 2)))\r\n",
        "print(v)"
      ],
      "execution_count": 29,
      "outputs": [
        {
          "output_type": "stream",
          "text": [
            "<tf.Variable 'Variable:0' shape=(2, 2) dtype=float32, numpy=\n",
            "array([[1., 1.],\n",
            "       [1., 1.]], dtype=float32)>\n"
          ],
          "name": "stdout"
        }
      ]
    },
    {
      "cell_type": "markdown",
      "metadata": {
        "id": "pWv6mleaOdFA"
      },
      "source": [
        "The state of a variable can be modified via its assign method:"
      ]
    },
    {
      "cell_type": "code",
      "metadata": {
        "colab": {
          "base_uri": "https://localhost:8080/"
        },
        "id": "nKgOOEmiOZVM",
        "outputId": "5d1d3d7a-6555-426a-c8ea-375c6aa4a004"
      },
      "source": [
        "v.assign(tf.zeros((2, 2)))"
      ],
      "execution_count": 31,
      "outputs": [
        {
          "output_type": "execute_result",
          "data": {
            "text/plain": [
              "<tf.Variable 'UnreadVariable' shape=(2, 2) dtype=float32, numpy=\n",
              "array([[0., 0.],\n",
              "       [0., 0.]], dtype=float32)>"
            ]
          },
          "metadata": {
            "tags": []
          },
          "execution_count": 31
        }
      ]
    },
    {
      "cell_type": "markdown",
      "metadata": {
        "id": "kgrHF6vCOzVE"
      },
      "source": [
        "It also works for a subset of the coefficients:"
      ]
    },
    {
      "cell_type": "code",
      "metadata": {
        "colab": {
          "base_uri": "https://localhost:8080/"
        },
        "id": "31a7NpXDOq4D",
        "outputId": "95902904-3e3c-414e-f412-6d5aacc860a3"
      },
      "source": [
        "v[0, 0].assign(3.)"
      ],
      "execution_count": 32,
      "outputs": [
        {
          "output_type": "execute_result",
          "data": {
            "text/plain": [
              "<tf.Variable 'UnreadVariable' shape=(2, 2) dtype=float32, numpy=\n",
              "array([[3., 0.],\n",
              "       [0., 0.]], dtype=float32)>"
            ]
          },
          "metadata": {
            "tags": []
          },
          "execution_count": 32
        }
      ]
    },
    {
      "cell_type": "markdown",
      "metadata": {
        "id": "mpElo3ICQY5Q"
      },
      "source": [
        "Similarly, assign_add and assign_sub are efficient equivalents of += and -=:"
      ]
    },
    {
      "cell_type": "code",
      "metadata": {
        "colab": {
          "base_uri": "https://localhost:8080/"
        },
        "id": "EXV6pAWJO5ok",
        "outputId": "88ce5f1a-9dff-47cd-e7d6-73ec90097f6f"
      },
      "source": [
        "v.assign_add(tf.ones(shape=(2, 2)))"
      ],
      "execution_count": 35,
      "outputs": [
        {
          "output_type": "execute_result",
          "data": {
            "text/plain": [
              "<tf.Variable 'UnreadVariable' shape=(2, 2) dtype=float32, numpy=\n",
              "array([[4., 1.],\n",
              "       [1., 1.]], dtype=float32)>"
            ]
          },
          "metadata": {
            "tags": []
          },
          "execution_count": 35
        }
      ]
    },
    {
      "cell_type": "code",
      "metadata": {
        "colab": {
          "base_uri": "https://localhost:8080/"
        },
        "id": "C4jRRiTWQhu9",
        "outputId": "72c19285-e448-498a-e83a-025d07e528c8"
      },
      "source": [
        "v.assign_sub(tf.ones(shape=(2, 2)))"
      ],
      "execution_count": 38,
      "outputs": [
        {
          "output_type": "execute_result",
          "data": {
            "text/plain": [
              "<tf.Variable 'UnreadVariable' shape=(2, 2) dtype=float32, numpy=\n",
              "array([[3., 0.],\n",
              "       [0., 0.]], dtype=float32)>"
            ]
          },
          "metadata": {
            "tags": []
          },
          "execution_count": 38
        }
      ]
    },
    {
      "cell_type": "markdown",
      "metadata": {
        "id": "9eUpKiSRRZXy"
      },
      "source": [
        "### Tensor operations: doing math in TensorFlow\r\n",
        "\r\n",
        "Just like NumPy, TensorFlow offers a large collection of tensor operations to express mathematical formulas."
      ]
    },
    {
      "cell_type": "code",
      "metadata": {
        "colab": {
          "base_uri": "https://localhost:8080/"
        },
        "id": "DaiMbAA-RESP",
        "outputId": "4caee9c0-68d8-4b23-a78e-85741d692d1a"
      },
      "source": [
        "a = tf.ones((2, 2))\r\n",
        "\r\n",
        "b = tf.square(a)  # take a square\r\n",
        "print(b)\r\n",
        "c = tf.sqrt(a)  # take a square root\r\n",
        "print(c)\r\n",
        "d = b + c # add two tensors (element-wise)\r\n",
        "print(d)\r\n",
        "e = tf.matmul(a, b)  # take the product of two tensors\r\n",
        "print(e)\r\n",
        "e *= d  # multiply two  tensors (element-wise)\r\n",
        "print(e)"
      ],
      "execution_count": 47,
      "outputs": [
        {
          "output_type": "stream",
          "text": [
            "tf.Tensor(\n",
            "[[1. 1.]\n",
            " [1. 1.]], shape=(2, 2), dtype=float32)\n",
            "tf.Tensor(\n",
            "[[1. 1.]\n",
            " [1. 1.]], shape=(2, 2), dtype=float32)\n",
            "tf.Tensor(\n",
            "[[2. 2.]\n",
            " [2. 2.]], shape=(2, 2), dtype=float32)\n",
            "tf.Tensor(\n",
            "[[2. 2.]\n",
            " [2. 2.]], shape=(2, 2), dtype=float32)\n",
            "tf.Tensor(\n",
            "[[4. 4.]\n",
            " [4. 4.]], shape=(2, 2), dtype=float32)\n"
          ],
          "name": "stdout"
        }
      ]
    },
    {
      "cell_type": "markdown",
      "metadata": {
        "id": "MMwuPC1IS6X_"
      },
      "source": [
        "### Look at the GradientTape API\r\n",
        "\r\n",
        "So far, TensorFlow seems to look a lot like NumPy. But here’s something NumPy can’t do: retrieve the gradient of any differentiable expression with respect to any of its inputs. Just open a GradientTape scope, apply some computation to one or several input tensors, and retrieve the gradient of the result with respect to the inputs.\r\n",
        "\r\n",
        "This is most commonly used to retrieve the gradients of the weights of a model with respect to its loss: gradients = tape.gradient(loss, weights)"
      ]
    },
    {
      "cell_type": "code",
      "metadata": {
        "colab": {
          "base_uri": "https://localhost:8080/"
        },
        "id": "Q-7fKpBoRrbt",
        "outputId": "f06e23a9-048c-49c4-f43a-e651212739d8"
      },
      "source": [
        "input_var = tf.Variable(initial_value=3.)\r\n",
        "with tf.GradientTape() as tape:\r\n",
        "  result = tf.square(input_var)\r\n",
        "print(result)\r\n",
        "gradient = tape.gradient(result, input_var)\r\n",
        "print(gradient)"
      ],
      "execution_count": 52,
      "outputs": [
        {
          "output_type": "stream",
          "text": [
            "tf.Tensor(9.0, shape=(), dtype=float32)\n",
            "tf.Tensor(6.0, shape=(), dtype=float32)\n"
          ],
          "name": "stdout"
        }
      ]
    },
    {
      "cell_type": "markdown",
      "metadata": {
        "id": "zGPiWALxbg5c"
      },
      "source": [
        "So far, you’ve only seen the case where the input tensors in tape.gradient() were TensorFlow variables. It’s actually possible for these inputs to be any arbitrary tensor. However, only trainable variables are being tracked by default. With a constant tensor, you’d have to manually mark it as being tracked, by calling tape.watch() on it:"
      ]
    },
    {
      "cell_type": "code",
      "metadata": {
        "colab": {
          "base_uri": "https://localhost:8080/"
        },
        "id": "pVc85qIRTewP",
        "outputId": "1c690a22-5716-4038-8249-6224e3ff28c3"
      },
      "source": [
        "# Using the GradientTape with constant tensor inputs\r\n",
        "input_const = tf.constant(3.)\r\n",
        "with tf.GradientTape() as tape:\r\n",
        "  tape.watch(input_const)\r\n",
        "  result = tf.square(input_const)\r\n",
        "gradient = tape.gradient(result, input_const)\r\n",
        "print(gradient)"
      ],
      "execution_count": 59,
      "outputs": [
        {
          "output_type": "stream",
          "text": [
            "tf.Tensor(6.0, shape=(), dtype=float32)\n"
          ],
          "name": "stdout"
        }
      ]
    },
    {
      "cell_type": "markdown",
      "metadata": {
        "id": "K1xiYW6SciqB"
      },
      "source": [
        "The gradient tape is a powerful utility, even capable of computing second-order gradients, that is to say, the gradient of a gradient. For instance, the gradient of the position of an object with regard to time is the speed of that object, and the second-order gradient is its acceleration.\r\n",
        "\r\n",
        "If you measure the position of a falling apple along a vertical axis over time, and find that it verifies $$position(time) = 4.9 * time ** 2$$, what is its acceleration? Let’s use two nested gradient tapes to find out."
      ]
    },
    {
      "cell_type": "code",
      "metadata": {
        "colab": {
          "base_uri": "https://localhost:8080/"
        },
        "id": "SBu7aNVkbr2N",
        "outputId": "32c1d3df-6eea-4832-c4fe-6316b2dbb5b3"
      },
      "source": [
        "time = tf.Variable(0.)\r\n",
        "with tf.GradientTape() as outer_tape:\r\n",
        "  with tf.GradientTape() as inner_tape:\r\n",
        "    position = 4.9 * time ** 2\r\n",
        "  speed = inner_tape.gradient(position, time)\r\n",
        "  print(speed)\r\n",
        "acceleration = outer_tape.gradient(speed, time)\r\n",
        "print(acceleration)"
      ],
      "execution_count": 63,
      "outputs": [
        {
          "output_type": "stream",
          "text": [
            "tf.Tensor(0.0, shape=(), dtype=float32)\n",
            "tf.Tensor(9.8, shape=(), dtype=float32)\n"
          ],
          "name": "stdout"
        }
      ]
    },
    {
      "cell_type": "markdown",
      "metadata": {
        "id": "a6KOzrcAhSJZ"
      },
      "source": [
        "### An end-to-end example: a linear classifier in pure TensorFlow\r\n",
        "\r\n",
        "Knowing about tensors, variables, tensor operations and how to compute gradients. That’s enough to build any machine learning model based on gradient descent.\r\n",
        "\r\n",
        "In a machine learning job interview, you may be asked to implement a linear classifier from scratch in TensorFlow: a very simple task that serves as a filter between candidates who have some minimal machine learning background, and those who don’t. Let’s get you past that filter, and use your newfound knowledge of TensorFlow to implement such a linear classifier."
      ]
    },
    {
      "cell_type": "markdown",
      "metadata": {
        "id": "Jq-4uppKhqFT"
      },
      "source": [
        "#### First, let’s come up with some nicely linearly-separable synthetic data to work with: two classes of points in a 2D plane."
      ]
    },
    {
      "cell_type": "code",
      "metadata": {
        "id": "nUAgNwU2dgaz"
      },
      "source": [
        "num_samples_per_class = 1000\r\n",
        "# generate first class of points - 1000 random 2D points with specified \"mean\" and \"covariance matrix\"\r\n",
        "# intuitively, the \"covariance matrix\" describes the shape of the point cloud and the \"mean\" describes its position in the plane\r\n",
        "# cov=[[1, 0.5], [0.5, 1]] corresponds to \"oval-like point cloud oriented from bottom left to top right\"\r\n",
        "negative_samples = np.random.multivariate_normal(mean=[0, 3], cov=[[1, 0.5], [0.5, 1]], size=num_samples_per_class)\r\n",
        "# generate the other class of points with a difference mean and the same covariance matrix (point cloud with a different position and the same shape).\r\n",
        "positive_samples = np.random.multivariate_normal(mean=[3, 0], cov=[[1, 0.5], [0.5, 1]], size=num_samples_per_class)"
      ],
      "execution_count": 66,
      "outputs": []
    },
    {
      "cell_type": "markdown",
      "metadata": {
        "id": "8hvWQb2dkPgo"
      },
      "source": [
        "negative_samples and positive_samples are both arrays with shape (1000, 2). Let’s stack them into a single array with shape (2000, 2):"
      ]
    },
    {
      "cell_type": "code",
      "metadata": {
        "id": "R_ihh0y5ikMD"
      },
      "source": [
        "# stacking the two classes into an array with shape (2000, 2)\r\n",
        "inputs = np.vstack((negative_samples, positive_samples)).astype(np.float32)"
      ],
      "execution_count": 68,
      "outputs": []
    },
    {
      "cell_type": "markdown",
      "metadata": {
        "id": "jTvrEcY9lxJk"
      },
      "source": [
        "Let’s generate the corresponding target labels, an array of zeros and ones of shape (2000, 1), where targets[i, 0] is 0 if inputs[i] belongs to class 0 (and inversely):"
      ]
    },
    {
      "cell_type": "code",
      "metadata": {
        "id": "fxmKece1kiha"
      },
      "source": [
        "targets = np.vstack((np.zeros((num_samples_per_class, 1), dtype=\"float32\"), np.ones((num_samples_per_class, 1), dtype=\"float32\")))"
      ],
      "execution_count": 70,
      "outputs": []
    },
    {
      "cell_type": "code",
      "metadata": {
        "colab": {
          "base_uri": "https://localhost:8080/",
          "height": 265
        },
        "id": "aOzX7DpYmRMr",
        "outputId": "fca9fd5c-aa0c-49de-a6a6-9f4684362c0e"
      },
      "source": [
        "plt.scatter(inputs[:, 0], inputs[:, 1], c=targets[:, 0])\r\n",
        "plt.show()"
      ],
      "execution_count": 71,
      "outputs": [
        {
          "output_type": "display_data",
          "data": {
            "image/png": "[encoded data removed]",
            "text/plain": [
              "<Figure size 432x288 with 1 Axes>"
            ]
          },
          "metadata": {
            "tags": [],
            "needs_background": "light"
          }
        }
      ]
    },
    {
      "cell_type": "markdown",
      "metadata": {
        "id": "UejlUl_Hmw2l"
      },
      "source": [
        "Now, let’s create a linear classifier that can learn to separate these two blobs. A linear classifier is an affine transformation $$prediction = W • input + b$$ trained to minimize the square of the difference between predictions and the targets.\r\n",
        "\r\n",
        "Let’s create our variables W and b, initialized with random values and with zeros respectively:"
      ]
    },
    {
      "cell_type": "code",
      "metadata": {
        "id": "1fhApYpDmnW9"
      },
      "source": [
        "# The inputs will be 2D points.\r\n",
        "input_dim = 2\r\n",
        "# The output predictions will be a single score per sample (close to 0 if the sample is predicted to be in class 0, and close to 1 if the sample is predicted to be in class 1).\r\n",
        "output_dim = 1\r\n",
        "\r\n",
        "W = tf.Variable(initial_value=tf.random.uniform(shape=(input_dim, output_dim)))\r\n",
        "b = tf.Variable(initial_value=tf.zeros(shape=(output_dim,)))"
      ],
      "execution_count": 74,
      "outputs": []
    },
    {
      "cell_type": "markdown",
      "metadata": {
        "id": "T-rtx60Vn3f-"
      },
      "source": [
        "Here’s our forward pass function:"
      ]
    },
    {
      "cell_type": "code",
      "metadata": {
        "id": "bjkntrDsnVio"
      },
      "source": [
        "def model(inputs):\r\n",
        "  return tf.matmul(inputs, W) + b"
      ],
      "execution_count": 75,
      "outputs": []
    },
    {
      "cell_type": "markdown",
      "metadata": {
        "id": "VCdympM2ovoJ"
      },
      "source": [
        "Because our linear classifier operates on 2D inputs, W is really just two scalar coefficients, w1 and w2: W = [[w1], [w2]]. Meanwhile, b is a single scalar coefficient. As such, for given input point [x, y], its prediction value is: $$prediction = [[w1], [w2]] • [x, y] + b = w1 * x + w2 * y + b$$\r\n",
        "\r\n",
        "Here’s our loss function:"
      ]
    },
    {
      "cell_type": "code",
      "metadata": {
        "id": "XF0KFNJAomYx"
      },
      "source": [
        "# The mean squared error loss function\r\n",
        "def square_loss(targets, prediction):\r\n",
        "  per_sample_loses = tf.square(targets - prediction)\r\n",
        "  return tf.reduce_mean(per_sample_loses)"
      ],
      "execution_count": 76,
      "outputs": []
    },
    {
      "cell_type": "markdown",
      "metadata": {
        "id": "jloj1apTp70w"
      },
      "source": [
        "Now, the training step, which receives some training data and updates the weights W and b so as to minimize the loss on the data:"
      ]
    },
    {
      "cell_type": "code",
      "metadata": {
        "id": "IbsREEzzpyb9"
      },
      "source": [
        "# The training step function\r\n",
        "learning_rate = 0.1\r\n",
        "\r\n",
        "def training_step(inputs, targets):\r\n",
        "  with tf.GradientTape() as tape:\r\n",
        "    predictions = model(inputs)\r\n",
        "    loss = square_loss(targets, predictions)\r\n",
        "  grad_loss_wrt_W, grad_loss_wrt_b = tape.gradient(loss, [W, b])\r\n",
        "  W.assign_sub(grad_loss_wrt_W * learning_rate)\r\n",
        "  b.assign_sub(grad_loss_wrt_b * learning_rate)\r\n",
        "  \r\n",
        "  return loss  "
      ],
      "execution_count": 80,
      "outputs": []
    },
    {
      "cell_type": "markdown",
      "metadata": {
        "id": "C1KPw6w7rymX"
      },
      "source": [
        "For simplicity, we’ll do batch training instead of mini-batch training: we’ll run each training step (gradient computation and weight update) on the entire data, rather than iterate over the data in small batches. On one hand, this means that each training step will take much longer to run, since we compute the forward pass and the gradients for 2,000 samples at once. One the other hand, each gradient update will be much more effective at reducing the loss on the training data, since it will encompass information from all training samples instead of, say, only 128 random samples. As a result, we will need much fewer steps of training, and we should use a larger learning rate than what we would typically use for mini-batch training (we’ll use learning_rate = 0.1)"
      ]
    },
    {
      "cell_type": "code",
      "metadata": {
        "colab": {
          "base_uri": "https://localhost:8080/"
        },
        "id": "rqJKujyVqiAW",
        "outputId": "189db267-07d8-4438-e2ba-6030989c1863"
      },
      "source": [
        "for step in range(30):\r\n",
        "  loss = training_step(inputs, targets)\r\n",
        "  print(f\"Loss at step {step}: {loss}\")"
      ],
      "execution_count": 82,
      "outputs": [
        {
          "output_type": "stream",
          "text": [
            "Loss at step 0: 0.04518289491534233\n",
            "Loss at step 1: 0.04351012781262398\n",
            "Loss at step 2: 0.041974976658821106\n",
            "Loss at step 3: 0.04056612029671669\n",
            "Loss at step 4: 0.039273157715797424\n",
            "Loss at step 5: 0.03808657079935074\n",
            "Loss at step 6: 0.03699759393930435\n",
            "Loss at step 7: 0.035998206585645676\n",
            "Loss at step 8: 0.035081036388874054\n",
            "Loss at step 9: 0.03423931449651718\n",
            "Loss at step 10: 0.03346683830022812\n",
            "Loss at step 11: 0.03275791555643082\n",
            "Loss at step 12: 0.03210730850696564\n",
            "Loss at step 13: 0.03151023015379906\n",
            "Loss at step 14: 0.03096226416528225\n",
            "Loss at step 15: 0.030459383502602577\n",
            "Loss at step 16: 0.029997868463397026\n",
            "Loss at step 17: 0.0295743215829134\n",
            "Loss at step 18: 0.029185619205236435\n",
            "Loss at step 19: 0.028828894719481468\n",
            "Loss at step 20: 0.028501514345407486\n",
            "Loss at step 21: 0.028201067820191383\n",
            "Loss at step 22: 0.027925336733460426\n",
            "Loss at step 23: 0.02767229452729225\n",
            "Loss at step 24: 0.027440063655376434\n",
            "Loss at step 25: 0.02722693607211113\n",
            "Loss at step 26: 0.027031349018216133\n",
            "Loss at step 27: 0.026851844042539597\n",
            "Loss at step 28: 0.02668711170554161\n",
            "Loss at step 29: 0.02653592824935913\n"
          ],
          "name": "stdout"
        }
      ]
    },
    {
      "cell_type": "markdown",
      "metadata": {
        "id": "gFw9PflnsYb-"
      },
      "source": [
        "Let’s plot how our linear model classifies the training data points. Because our targets are zeros and ones, a given input point will be classified as \"0\" if its prediction value is below 0.5, and as \"1\" if it is above 0.5:"
      ]
    },
    {
      "cell_type": "code",
      "metadata": {
        "colab": {
          "base_uri": "https://localhost:8080/",
          "height": 265
        },
        "id": "JsGHOJpvsHzA",
        "outputId": "d48fa827-d28f-46fe-b27e-2a57e3d5cc7f"
      },
      "source": [
        "plt.scatter(inputs[:, 0], inputs[:, 1], c=predictions[:, 0] > 0.5)\r\n",
        "plt.show()"
      ],
      "execution_count": 84,
      "outputs": [
        {
          "output_type": "display_data",
          "data": {
            "image/png": "[encoded data removed]",
            "text/plain": [
              "<Figure size 432x288 with 1 Axes>"
            ]
          },
          "metadata": {
            "tags": [],
            "needs_background": "light"
          }
        }
      ]
    },
    {
      "cell_type": "markdown",
      "metadata": {
        "id": "xaYuPJVas-3O"
      },
      "source": [
        "Recall that the prediction value for a given point [x, y] is simply $$prediction == [[w1], [w2]] • [x, y] + b == w1 * x + w2 * y + b$$ Thus, class \"0\" is defined as: $$w1 * x + w2 * y + b < 0.5$$ and class \"1\" is defined as: $$w1 * x + w2 * y + b > 0.5$$ You’ll notice that what you’re looking at is really the equation of a line in the 2D plane: $$w1 * x + w2 * y + b = 0.5$$ Above the line, class 1, below the line, class 0. You may be used to seeing line equations in the format $$y = a * x + b$$ in the same format, our line becomes: $$y = - w1 / w2 * x + (0.5 - b) / w2$$\r\n",
        "\r\n",
        "Let’s plot this line:"
      ]
    },
    {
      "cell_type": "code",
      "metadata": {
        "colab": {
          "base_uri": "https://localhost:8080/",
          "height": 265
        },
        "id": "zeHQRjkIskpz",
        "outputId": "a5660bbb-0023-4217-c13a-9b0b9b72b130"
      },
      "source": [
        "# Generate 100 regularly spaced numbers between -1 and 4, which we will use to plot our line\r\n",
        "x = np.linspace(-1, 4, 100)\r\n",
        "# This is the line’s equation\r\n",
        "y = - W[0] /  W[1] * x + (0.5 - b) / W[1]\r\n",
        "# Plot our line ('-r' means \"plot it as a red line\")\r\n",
        "plt.plot(x, y, '-r')\r\n",
        "# Plot our model’s predictions on the same plot\r\n",
        "plt.scatter(inputs[:, 0], inputs[:, 1], c=predictions[:, 0] > 0.5)\r\n",
        "plt.show()"
      ],
      "execution_count": 86,
      "outputs": [
        {
          "output_type": "display_data",
          "data": {
            "image/png": "[encoded data removed]",
            "text/plain": [
              "<Figure size 432x288 with 1 Axes>"
            ]
          },
          "metadata": {
            "tags": [],
            "needs_background": "light"
          }
        }
      ]
    }
  ]
}