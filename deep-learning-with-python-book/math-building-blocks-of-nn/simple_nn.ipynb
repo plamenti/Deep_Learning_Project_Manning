{
  "nbformat": 4,
  "nbformat_minor": 0,
  "metadata": {
    "colab": {
      "name": "simple_nn.ipynb",
      "provenance": []
    },
    "kernelspec": {
      "name": "python3",
      "display_name": "Python 3"
    }
  },
  "cells": [
    {
      "cell_type": "code",
      "metadata": {
        "id": "Tu1ThYuSUUXK"
      },
      "source": [
        "import tensorflow as tf\r\n",
        "from tensorflow.keras import models\r\n",
        "from tensorflow.keras import layers\r\n",
        "from tensorflow.keras.datasets import mnist"
      ],
      "execution_count": 13,
      "outputs": []
    },
    {
      "cell_type": "code",
      "metadata": {
        "id": "TjTuDpvoU0qX"
      },
      "source": [
        "(train_images, train_labels), (test_images, test_labels) = mnist.load_data()"
      ],
      "execution_count": 2,
      "outputs": []
    },
    {
      "cell_type": "code",
      "metadata": {
        "colab": {
          "base_uri": "https://localhost:8080/"
        },
        "id": "4EuO3TndVIeO",
        "outputId": "eb296193-94fa-41c3-afa1-f4dcfa6fcd60"
      },
      "source": [
        "train_images.shape"
      ],
      "execution_count": 3,
      "outputs": [
        {
          "output_type": "execute_result",
          "data": {
            "text/plain": [
              "(60000, 28, 28)"
            ]
          },
          "metadata": {
            "tags": []
          },
          "execution_count": 3
        }
      ]
    },
    {
      "cell_type": "code",
      "metadata": {
        "colab": {
          "base_uri": "https://localhost:8080/"
        },
        "id": "MVIEeR8kVt9N",
        "outputId": "1bd90b58-1d34-4140-fc66-36cd77eac0a6"
      },
      "source": [
        "train_labels.shape"
      ],
      "execution_count": 4,
      "outputs": [
        {
          "output_type": "execute_result",
          "data": {
            "text/plain": [
              "(60000,)"
            ]
          },
          "metadata": {
            "tags": []
          },
          "execution_count": 4
        }
      ]
    },
    {
      "cell_type": "code",
      "metadata": {
        "colab": {
          "base_uri": "https://localhost:8080/"
        },
        "id": "8CPp3jL8VxyV",
        "outputId": "997a159e-723b-4d23-ae22-df60f0ab82ae"
      },
      "source": [
        "train_labels"
      ],
      "execution_count": 5,
      "outputs": [
        {
          "output_type": "execute_result",
          "data": {
            "text/plain": [
              "array([5, 0, 4, ..., 5, 6, 8], dtype=uint8)"
            ]
          },
          "metadata": {
            "tags": []
          },
          "execution_count": 5
        }
      ]
    },
    {
      "cell_type": "code",
      "metadata": {
        "colab": {
          "base_uri": "https://localhost:8080/"
        },
        "id": "IK4Izg4uV7m-",
        "outputId": "5e17dc50-9980-49c8-fdf9-c3edac761675"
      },
      "source": [
        "test_images.shape"
      ],
      "execution_count": 6,
      "outputs": [
        {
          "output_type": "execute_result",
          "data": {
            "text/plain": [
              "(10000, 28, 28)"
            ]
          },
          "metadata": {
            "tags": []
          },
          "execution_count": 6
        }
      ]
    },
    {
      "cell_type": "code",
      "metadata": {
        "colab": {
          "base_uri": "https://localhost:8080/"
        },
        "id": "uqGyxxS4V2md",
        "outputId": "a393f0f3-e5ce-43eb-d7c2-5a4107114f42"
      },
      "source": [
        "test_labels"
      ],
      "execution_count": 7,
      "outputs": [
        {
          "output_type": "execute_result",
          "data": {
            "text/plain": [
              "array([7, 2, 1, ..., 4, 5, 6], dtype=uint8)"
            ]
          },
          "metadata": {
            "tags": []
          },
          "execution_count": 7
        }
      ]
    },
    {
      "cell_type": "markdown",
      "metadata": {
        "id": "q9ZI3eGxWdxw"
      },
      "source": [
        "#### Create NN, feed it with training data (train_images, train_labels). NN will learn to associate the images and labels. Then ask NN to produce predictions for test_images and verify if the predictions match test_labels."
      ]
    },
    {
      "cell_type": "code",
      "metadata": {
        "id": "FgZhKE16V_l2"
      },
      "source": [
        "model = models.Sequential([\r\n",
        "  layers.Dense(512, activation='relu'),\r\n",
        "  layers.Dense(10, activation='softmax')\r\n",
        "])"
      ],
      "execution_count": 8,
      "outputs": []
    },
    {
      "cell_type": "markdown",
      "metadata": {
        "id": "5ooxkISRbvqO"
      },
      "source": [
        "To make the model ready for training, we need to pick three more things, as part of the **compilation** step:\r\n",
        "\r\n",
        "An **optimizer** — The mechanism through which the model will update itself based on the training data it sees, so as to improve its performance.\r\n",
        "A **loss function** — How the model will be able to measure its performance on the training data, and thus how it will be able to steer itself in the right direction.\r\n",
        "**Metrics to monitor during training and testing** — Here, we’ll only care about accuracy (the fraction of the images that were correctly classified)."
      ]
    },
    {
      "cell_type": "code",
      "metadata": {
        "id": "Xe2RoOq2WVUF"
      },
      "source": [
        "model.compile(optimizer='rmsprop',\r\n",
        "              loss='sparse_categorical_crossentropy',\r\n",
        "              metrics=['accuracy'])"
      ],
      "execution_count": 9,
      "outputs": []
    },
    {
      "cell_type": "markdown",
      "metadata": {
        "id": "nr1wSoSGdVNy"
      },
      "source": [
        "Before training, we’ll preprocess the data by reshaping it into the shape the model expects and scaling it so that all values are in the [0, 1] interval. Previously, our training images, for instance, were stored in an array of shape (60000, 28, 28) of type uint8 with values in the [0, 255] interval. We transform it into a float32 array of shape (60000, 28 * 28) with values between 0 and 1"
      ]
    },
    {
      "cell_type": "code",
      "metadata": {
        "id": "2P7p2jXhWVZC"
      },
      "source": [
        "train_images = train_images.reshape((60000, 28 * 28))\r\n",
        "train_images = train_images.astype('float32') / 255\r\n",
        "test_images = test_images.reshape((10000, 28 * 28))\r\n",
        "test_images = test_images.astype('float32') / 255"
      ],
      "execution_count": 10,
      "outputs": []
    },
    {
      "cell_type": "code",
      "metadata": {
        "colab": {
          "base_uri": "https://localhost:8080/"
        },
        "id": "qBEyjDSJeRk5",
        "outputId": "834f9bce-9fd6-48f1-baec-4fce82407cfb"
      },
      "source": [
        "train_images.dtype"
      ],
      "execution_count": 11,
      "outputs": [
        {
          "output_type": "execute_result",
          "data": {
            "text/plain": [
              "dtype('float32')"
            ]
          },
          "metadata": {
            "tags": []
          },
          "execution_count": 11
        }
      ]
    },
    {
      "cell_type": "markdown",
      "metadata": {
        "id": "maAejgtWd9bb"
      },
      "source": [
        "train the model, which in Keras is done via a call to the model’s fit method — we fit the model to its training data"
      ]
    },
    {
      "cell_type": "code",
      "metadata": {
        "colab": {
          "base_uri": "https://localhost:8080/"
        },
        "id": "-AN7kk-CWVcW",
        "outputId": "d5b908fa-4dc0-4536-f68b-9795cc3ff966"
      },
      "source": [
        "model.fit(train_images, train_labels, epochs=5, batch_size=128)"
      ],
      "execution_count": 12,
      "outputs": [
        {
          "output_type": "stream",
          "text": [
            "Epoch 1/5\n",
            "469/469 [==============================] - 4s 9ms/step - loss: 0.2546 - accuracy: 0.9263\n",
            "Epoch 2/5\n",
            "469/469 [==============================] - 4s 9ms/step - loss: 0.1039 - accuracy: 0.9690\n",
            "Epoch 3/5\n",
            "469/469 [==============================] - 4s 9ms/step - loss: 0.0677 - accuracy: 0.9794\n",
            "Epoch 4/5\n",
            "469/469 [==============================] - 4s 9ms/step - loss: 0.0499 - accuracy: 0.9848\n",
            "Epoch 5/5\n",
            "469/469 [==============================] - 4s 9ms/step - loss: 0.0372 - accuracy: 0.9887\n"
          ],
          "name": "stdout"
        },
        {
          "output_type": "execute_result",
          "data": {
            "text/plain": [
              "<tensorflow.python.keras.callbacks.History at 0x7f21835aee80>"
            ]
          },
          "metadata": {
            "tags": []
          },
          "execution_count": 12
        }
      ]
    },
    {
      "cell_type": "markdown",
      "metadata": {
        "id": "S2GYWH74gtlj"
      },
      "source": [
        "use trained model to predict class probabilities for new digits — images that weren’t part of the training data, like those from the test set"
      ]
    },
    {
      "cell_type": "code",
      "metadata": {
        "id": "AVZBDOgqWVfO"
      },
      "source": [
        "test_digits = test_images[:10]\r\n",
        "predictions = model.predict(test_digits)"
      ],
      "execution_count": 14,
      "outputs": []
    },
    {
      "cell_type": "code",
      "metadata": {
        "colab": {
          "base_uri": "https://localhost:8080/"
        },
        "id": "m8QZ0ei4WVhz",
        "outputId": "a933cfbf-7508-44a9-ee28-5296a3427c62"
      },
      "source": [
        "max_prediction_index = predictions[0].argmax()\r\n",
        "max_prediction_index"
      ],
      "execution_count": 22,
      "outputs": [
        {
          "output_type": "execute_result",
          "data": {
            "text/plain": [
              "7"
            ]
          },
          "metadata": {
            "tags": []
          },
          "execution_count": 22
        }
      ]
    },
    {
      "cell_type": "code",
      "metadata": {
        "colab": {
          "base_uri": "https://localhost:8080/"
        },
        "id": "wMyeXe0Phevc",
        "outputId": "1f1a49c6-2289-4eaa-8584-8982db07e02b"
      },
      "source": [
        "predictions[0][max_prediction_index]"
      ],
      "execution_count": 23,
      "outputs": [
        {
          "output_type": "execute_result",
          "data": {
            "text/plain": [
              "0.9999474"
            ]
          },
          "metadata": {
            "tags": []
          },
          "execution_count": 23
        }
      ]
    },
    {
      "cell_type": "code",
      "metadata": {
        "colab": {
          "base_uri": "https://localhost:8080/"
        },
        "id": "inkUmxgmg9vX",
        "outputId": "a9f2ba67-4987-4837-fa6c-cbfa13554192"
      },
      "source": [
        "test_labels[0]"
      ],
      "execution_count": 24,
      "outputs": [
        {
          "output_type": "execute_result",
          "data": {
            "text/plain": [
              "7"
            ]
          },
          "metadata": {
            "tags": []
          },
          "execution_count": 24
        }
      ]
    },
    {
      "cell_type": "markdown",
      "metadata": {
        "id": "CAg_B--Uhyw7"
      },
      "source": [
        " computing average accuracy over the entire test set"
      ]
    },
    {
      "cell_type": "code",
      "metadata": {
        "colab": {
          "base_uri": "https://localhost:8080/"
        },
        "id": "mdbhHcC7hY8F",
        "outputId": "b8b85432-0064-48c1-b2f7-4e97056b1cf2"
      },
      "source": [
        "test_loss, test_accuracy = model.evaluate(test_images, test_labels)"
      ],
      "execution_count": 26,
      "outputs": [
        {
          "output_type": "stream",
          "text": [
            "313/313 [==============================] - 1s 2ms/step - loss: 0.0599 - accuracy: 0.9818\n"
          ],
          "name": "stdout"
        }
      ]
    },
    {
      "cell_type": "code",
      "metadata": {
        "colab": {
          "base_uri": "https://localhost:8080/"
        },
        "id": "36v4_qrdh63I",
        "outputId": "51b5da5f-f6a6-41dc-dce5-4f9a583dd060"
      },
      "source": [
        "print(\"Test accuracy: \", test_accuracy)"
      ],
      "execution_count": 27,
      "outputs": [
        {
          "output_type": "stream",
          "text": [
            "Test accuracy:  0.9818000197410583\n"
          ],
          "name": "stdout"
        }
      ]
    }
  ]
}