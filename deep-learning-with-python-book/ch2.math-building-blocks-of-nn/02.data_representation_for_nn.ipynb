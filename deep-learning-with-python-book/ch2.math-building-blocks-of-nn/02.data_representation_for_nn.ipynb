{
  "nbformat": 4,
  "nbformat_minor": 0,
  "metadata": {
    "colab": {
      "name": "data_representation_for_nn.ipynb",
      "provenance": []
    },
    "kernelspec": {
      "name": "python3",
      "display_name": "Python 3"
    }
  },
  "cells": [
    {
      "cell_type": "code",
      "metadata": {
        "id": "0BCAd31plPP3"
      },
      "source": [
        "import numpy as np\r\n",
        "import matplotlib.pyplot as plt\r\n",
        "\r\n",
        "from keras.datasets import mnist"
      ],
      "execution_count": 1,
      "outputs": []
    },
    {
      "cell_type": "markdown",
      "metadata": {
        "id": "TPqWvTbuklEp"
      },
      "source": [
        "**Tensor** is a container for data — usually numerical data. So, it’s a container for numbers. Matrices are rank-2 tensors: tensors are a generalization of matrices to an arbitrary number of dimensions (note that in the context of tensors, a dimension is often called an axis)"
      ]
    },
    {
      "cell_type": "markdown",
      "metadata": {
        "id": "rpgAq7FUklYf"
      },
      "source": [
        "**Scalars** (rank-0 tensors)\r\n",
        "\r\n",
        "A tensor that contains only one number is called a scalar (or scalar tensor, or rank-0 tensor, or 0D tensor). In NumPy, a float32 or float64 number is a scalar tensor (or scalar array).\r\n",
        "\r\n",
        "You can display the number of axes of a NumPy tensor via the ndim attribute; a scalar tensor has 0 axes (ndim == 0). The number of axes of a tensor is also called its rank. Here’s a NumPy scalar"
      ]
    },
    {
      "cell_type": "code",
      "metadata": {
        "colab": {
          "base_uri": "https://localhost:8080/"
        },
        "id": "9i0eQswnkfnj",
        "outputId": "1a1c0a87-1065-40ce-d3ff-2aa56ce86808"
      },
      "source": [
        "x = np.array(12)\r\n",
        "x"
      ],
      "execution_count": 2,
      "outputs": [
        {
          "output_type": "execute_result",
          "data": {
            "text/plain": [
              "array(12)"
            ]
          },
          "metadata": {
            "tags": []
          },
          "execution_count": 2
        }
      ]
    },
    {
      "cell_type": "code",
      "metadata": {
        "colab": {
          "base_uri": "https://localhost:8080/"
        },
        "id": "FftMJhQFleFO",
        "outputId": "adc6b327-3dde-4a40-bc79-af616d1a6d84"
      },
      "source": [
        "x.ndim"
      ],
      "execution_count": 3,
      "outputs": [
        {
          "output_type": "execute_result",
          "data": {
            "text/plain": [
              "0"
            ]
          },
          "metadata": {
            "tags": []
          },
          "execution_count": 3
        }
      ]
    },
    {
      "cell_type": "markdown",
      "metadata": {
        "id": "49IhY1PBklbR"
      },
      "source": [
        "**Vectors** (rank-1 tensors)\r\n",
        "\r\n",
        "An array of numbers is called a vector, or rank-1 tensor, or 1D tensor. A rank-1 tensor is said to have exactly one axis. Following is a NumPy vector"
      ]
    },
    {
      "cell_type": "code",
      "metadata": {
        "colab": {
          "base_uri": "https://localhost:8080/"
        },
        "id": "WAj0xR0ymZOF",
        "outputId": "f57faecc-ded8-46d0-ca51-a37ec848e386"
      },
      "source": [
        "x = np.array([12, 3, 6, 14, 7])\r\n",
        "x"
      ],
      "execution_count": 4,
      "outputs": [
        {
          "output_type": "execute_result",
          "data": {
            "text/plain": [
              "array([12,  3,  6, 14,  7])"
            ]
          },
          "metadata": {
            "tags": []
          },
          "execution_count": 4
        }
      ]
    },
    {
      "cell_type": "code",
      "metadata": {
        "colab": {
          "base_uri": "https://localhost:8080/"
        },
        "id": "6XkuJx4-mjR2",
        "outputId": "1a5b6707-1a9e-4e48-ba7e-f271a31b6218"
      },
      "source": [
        "x.ndim"
      ],
      "execution_count": 5,
      "outputs": [
        {
          "output_type": "execute_result",
          "data": {
            "text/plain": [
              "1"
            ]
          },
          "metadata": {
            "tags": []
          },
          "execution_count": 5
        }
      ]
    },
    {
      "cell_type": "markdown",
      "metadata": {
        "id": "LRaOX7ZRkleR"
      },
      "source": [
        "**Matrices** (rank-2 tensors)\r\n",
        "\r\n",
        "n array of vectors is a matrix, or rank-2 tensor, or 2D tensor. A matrix has two axes (often referred to rows and columns). You can visually interpret a matrix as a rectangular grid of numbers. This is a NumPy matrix"
      ]
    },
    {
      "cell_type": "code",
      "metadata": {
        "colab": {
          "base_uri": "https://localhost:8080/"
        },
        "id": "xW5e9coxnElZ",
        "outputId": "cb977003-269d-4eb6-ae94-416be658bba9"
      },
      "source": [
        "x = np.array([[5, 78, 2, 34, 0],\r\n",
        "             [6, 79, 3, 5, 1],\r\n",
        "             [7, 80, 4, 36, 2]])\r\n",
        "x"
      ],
      "execution_count": 6,
      "outputs": [
        {
          "output_type": "execute_result",
          "data": {
            "text/plain": [
              "array([[ 5, 78,  2, 34,  0],\n",
              "       [ 6, 79,  3,  5,  1],\n",
              "       [ 7, 80,  4, 36,  2]])"
            ]
          },
          "metadata": {
            "tags": []
          },
          "execution_count": 6
        }
      ]
    },
    {
      "cell_type": "code",
      "metadata": {
        "colab": {
          "base_uri": "https://localhost:8080/"
        },
        "id": "Tw2_R9aEnX78",
        "outputId": "261bb9dc-109e-42e8-8a6d-65a9279dfd78"
      },
      "source": [
        "x.ndim"
      ],
      "execution_count": 7,
      "outputs": [
        {
          "output_type": "execute_result",
          "data": {
            "text/plain": [
              "2"
            ]
          },
          "metadata": {
            "tags": []
          },
          "execution_count": 7
        }
      ]
    },
    {
      "cell_type": "markdown",
      "metadata": {
        "id": "r6Ie0dZbnqdN"
      },
      "source": [
        "Rank-3 tensors and higher-rank tensors\r\n",
        "\r\n",
        "If you pack such matrices in a new array, you obtain a rank-3 tensor (or 3D tensor), which you can visually interpret as a cube of numbers. Following is a NumPy rank-3 tensor"
      ]
    },
    {
      "cell_type": "code",
      "metadata": {
        "colab": {
          "base_uri": "https://localhost:8080/"
        },
        "id": "IOLXspHanbyL",
        "outputId": "bbccc02e-0714-4ff2-e8fa-a31cb5514ed5"
      },
      "source": [
        "x = np.array([[[5, 78, 2, 34, 0],\r\n",
        "                   [6, 79, 3, 35, 1],\r\n",
        "                   [7, 80, 4, 36, 2]],\r\n",
        "                  [[5, 78, 2, 34, 0],\r\n",
        "                   [6, 79, 3, 35, 1],\r\n",
        "                   [7, 80, 4, 36, 2]],\r\n",
        "                  [[5, 78, 2, 34, 0],\r\n",
        "                   [6, 79, 3, 35, 1],\r\n",
        "                   [7, 80, 4, 36, 2]]])\r\n",
        "x"
      ],
      "execution_count": 8,
      "outputs": [
        {
          "output_type": "execute_result",
          "data": {
            "text/plain": [
              "array([[[ 5, 78,  2, 34,  0],\n",
              "        [ 6, 79,  3, 35,  1],\n",
              "        [ 7, 80,  4, 36,  2]],\n",
              "\n",
              "       [[ 5, 78,  2, 34,  0],\n",
              "        [ 6, 79,  3, 35,  1],\n",
              "        [ 7, 80,  4, 36,  2]],\n",
              "\n",
              "       [[ 5, 78,  2, 34,  0],\n",
              "        [ 6, 79,  3, 35,  1],\n",
              "        [ 7, 80,  4, 36,  2]]])"
            ]
          },
          "metadata": {
            "tags": []
          },
          "execution_count": 8
        }
      ]
    },
    {
      "cell_type": "code",
      "metadata": {
        "colab": {
          "base_uri": "https://localhost:8080/"
        },
        "id": "djeQmGatn0Tg",
        "outputId": "9315b6fe-59d5-4ae2-df09-201727f39c68"
      },
      "source": [
        "x.ndim"
      ],
      "execution_count": 9,
      "outputs": [
        {
          "output_type": "execute_result",
          "data": {
            "text/plain": [
              "3"
            ]
          },
          "metadata": {
            "tags": []
          },
          "execution_count": 9
        }
      ]
    },
    {
      "cell_type": "markdown",
      "metadata": {
        "id": "z_cZg49HoD-l"
      },
      "source": [
        "#### Key attributes\r\n",
        "\r\n",
        "A tensor is defined by three key attributes:\r\n",
        "\r\n",
        "**Number of axes (rank)** — For instance, a rank-3 tensor has three axes, and a matrix has two axes. This is also called the tensor’s ndim in Python libraries such as NumPy or TensorFlow.\r\n",
        "\r\n",
        "**Shape** — This is a tuple of integers that describes how many dimensions the tensor has along each axis. For instance, the previous matrix example has shape (3, 5), and the rank-3 tensor example has shape (3, 3, 5). A vector has a shape with a single element, such as (5,), whereas a scalar has an empty shape, ().\r\n",
        "\r\n",
        "**Data type** (usually called dtype in Python libraries) — This is the type of the data contained in the tensor; for instance, a tensor’s type could be float16, float32, float64, uint8, and so on. In TensorFlow, you are also likely to come across string tensors."
      ]
    },
    {
      "cell_type": "code",
      "metadata": {
        "id": "e0XxWmrmn2Te"
      },
      "source": [
        "(train_images, train_labels), (test_images, test_labels) = mnist.load_data()"
      ],
      "execution_count": 10,
      "outputs": []
    },
    {
      "cell_type": "code",
      "metadata": {
        "colab": {
          "base_uri": "https://localhost:8080/"
        },
        "id": "ZhQTjDeeo6GT",
        "outputId": "39751f89-3997-4df5-e110-36989b5fb15d"
      },
      "source": [
        "print(train_images.ndim)"
      ],
      "execution_count": 11,
      "outputs": [
        {
          "output_type": "stream",
          "text": [
            "3\n"
          ],
          "name": "stdout"
        }
      ]
    },
    {
      "cell_type": "code",
      "metadata": {
        "colab": {
          "base_uri": "https://localhost:8080/"
        },
        "id": "-hIvnk2FpBUh",
        "outputId": "a8d84a44-466f-406a-e04a-4608e41ca515"
      },
      "source": [
        "print(train_images.shape)"
      ],
      "execution_count": 12,
      "outputs": [
        {
          "output_type": "stream",
          "text": [
            "(60000, 28, 28)\n"
          ],
          "name": "stdout"
        }
      ]
    },
    {
      "cell_type": "code",
      "metadata": {
        "colab": {
          "base_uri": "https://localhost:8080/"
        },
        "id": "gWApDlG3pIfK",
        "outputId": "fb5d0903-d479-4de3-c6ed-5bfeccc28538"
      },
      "source": [
        "print(train_images.dtype)"
      ],
      "execution_count": 13,
      "outputs": [
        {
          "output_type": "stream",
          "text": [
            "uint8\n"
          ],
          "name": "stdout"
        }
      ]
    },
    {
      "cell_type": "markdown",
      "metadata": {
        "id": "MzH8erKbpgkE"
      },
      "source": [
        "So what we have here is a rank-3 tensor of 8-bit integers. More precisely, it’s an array of 60,000 matrices of 28 × 28 integers. Each such matrix is a grayscale image, with coefficients between 0 and 255"
      ]
    },
    {
      "cell_type": "code",
      "metadata": {
        "colab": {
          "base_uri": "https://localhost:8080/",
          "height": 265
        },
        "id": "5NmtgFfxpc7J",
        "outputId": "07a260e9-56b1-4e93-ef09-5a1bc9e37d56"
      },
      "source": [
        "digit = train_images[4]\r\n",
        "plt.imshow(digit, cmap=plt.cm.binary)\r\n",
        "plt.show()"
      ],
      "execution_count": 14,
      "outputs": [
        {
          "output_type": "display_data",
          "data": {
            "image/png": "[encoded data removed]",
            "text/plain": [
              "<Figure size 432x288 with 1 Axes>"
            ]
          },
          "metadata": {
            "tags": [],
            "needs_background": "light"
          }
        }
      ]
    },
    {
      "cell_type": "code",
      "metadata": {
        "colab": {
          "base_uri": "https://localhost:8080/"
        },
        "id": "qcvGIUuupQqr",
        "outputId": "62a6de09-01b1-4110-b6dc-a9afc6dd6a68"
      },
      "source": [
        "train_labels[4]"
      ],
      "execution_count": 15,
      "outputs": [
        {
          "output_type": "execute_result",
          "data": {
            "text/plain": [
              "9"
            ]
          },
          "metadata": {
            "tags": []
          },
          "execution_count": 15
        }
      ]
    },
    {
      "cell_type": "markdown",
      "metadata": {
        "id": "gOYVIjbFqKjQ"
      },
      "source": [
        "#### Manipulating tensors in NumPy\r\n",
        "\r\n",
        "The following example selects digits #10 to #100 (#100 isn’t included) and puts them in an array of shape (90, 28, 28)"
      ]
    },
    {
      "cell_type": "code",
      "metadata": {
        "colab": {
          "base_uri": "https://localhost:8080/"
        },
        "id": "OMOTl6W2qHFS",
        "outputId": "33a7f09d-b7c2-41c9-ceb9-7e83c30f74ce"
      },
      "source": [
        "my_slice = train_images[10:100]\r\n",
        "print(my_slice.shape)"
      ],
      "execution_count": 16,
      "outputs": [
        {
          "output_type": "stream",
          "text": [
            "(90, 28, 28)\n"
          ],
          "name": "stdout"
        }
      ]
    },
    {
      "cell_type": "code",
      "metadata": {
        "colab": {
          "base_uri": "https://localhost:8080/"
        },
        "id": "o1dLWpEzqcwO",
        "outputId": "6b85b89b-d715-41ba-b797-93b74ba943fe"
      },
      "source": [
        "my_slice = train_images[:, 14:, 14:]\r\n",
        "print(my_slice.shape)"
      ],
      "execution_count": 17,
      "outputs": [
        {
          "output_type": "stream",
          "text": [
            "(60000, 14, 14)\n"
          ],
          "name": "stdout"
        }
      ]
    },
    {
      "cell_type": "code",
      "metadata": {
        "colab": {
          "base_uri": "https://localhost:8080/",
          "height": 265
        },
        "id": "l0qvGAlGqumn",
        "outputId": "5436e9b3-763a-475e-922f-d647123a662e"
      },
      "source": [
        "sliced_digit = my_slice[4]\r\n",
        "plt.imshow(sliced_digit, cmap=plt.cm.binary)\r\n",
        "plt.show()"
      ],
      "execution_count": 18,
      "outputs": [
        {
          "output_type": "display_data",
          "data": {
            "image/png": "[encoded data removed]",
            "text/plain": [
              "<Figure size 432x288 with 1 Axes>"
            ]
          },
          "metadata": {
            "tags": [],
            "needs_background": "light"
          }
        }
      ]
    },
    {
      "cell_type": "markdown",
      "metadata": {
        "id": "HYfUVUsHrNB6"
      },
      "source": [
        "### The notion of data batches\r\n",
        "\r\n",
        "In general, the first axis (axis 0, because indexing starts at 0) in all data tensors you’ll come across in deep learning will be the samples axis (sometimes called the samples dimension). In the MNIST example, samples are images of digits.\r\n",
        "\r\n",
        "In addition, deep-learning models don’t process an entire dataset at once; rather, they break the data into small batches. Concretely, here’s one batch of our MNIST digits, with batch size of 128.\r\n",
        "\r\n",
        "When considering such a batch tensor, the first axis (axis 0) is called the batch axis or batch dimension. This is a term you’ll frequently encounter when using Keras and other deep-learning libraries."
      ]
    },
    {
      "cell_type": "code",
      "metadata": {
        "id": "fpQc3cLorMkT"
      },
      "source": [
        "batch = train_images[:128]"
      ],
      "execution_count": 19,
      "outputs": []
    },
    {
      "cell_type": "code",
      "metadata": {
        "id": "opl9PFWprAyr"
      },
      "source": [
        "batch = train_images[128:256]   # same as: n = 2 batch = train_images[128*n:128*(n+1)]"
      ],
      "execution_count": 20,
      "outputs": []
    },
    {
      "cell_type": "code",
      "metadata": {
        "id": "iiEbMlUNrneo"
      },
      "source": [
        "n = 3\r\n",
        "batch = train_images[128*n:128*(n+1)]"
      ],
      "execution_count": 21,
      "outputs": []
    },
    {
      "cell_type": "markdown",
      "metadata": {
        "id": "Einv6WFjsXyc"
      },
      "source": [
        "### Real-world examples of data tensors\r\n",
        "\r\n",
        "The data you’ll manipulate will almost always fall into one of the following categories:\r\n",
        "\r\n",
        "**Vector data** — rank-2 tensors of shape (samples, features)\r\n",
        "\r\n",
        "**Timeseries data or sequence data** — rank-3 tensors of shape (samples, timesteps, features)\r\n",
        "\r\n",
        "**Images** — rank-4 tensors of shape (samples, height, width, channels) or (samples, channels, height, width)\r\n",
        "\r\n",
        "**Video** — rank-5 tensors of shape (samples, frames, height, width, channels) or (samples, frames, channels, height, width)"
      ]
    },
    {
      "cell_type": "markdown",
      "metadata": {
        "id": "gmAJniYuszzU"
      },
      "source": [
        "####  Vector data\r\n",
        "\r\n",
        "This is one of the most common cases. In such a dataset, each single data point can be encoded as a vector, and thus a batch of data will be encoded as a rank-2 tensor (that is, an array of vectors), where the first axis is the samples axis and the second axis is the features axis.\r\n",
        "\r\n",
        "Let’s take a look at two examples:\r\n",
        "\r\n",
        "An actuarial dataset of people, where we consider each person’s age, ZIP code, and income. Each person can be characterized as a vector of 3 values, and thus an entire dataset of 100,000 people can be stored in a rank-2 tensor of shape (100000, 3).\r\n",
        "\r\n",
        "A dataset of text documents, where we represent each document by the counts of how many times each word appears in it (out of a dictionary of 20,000 common words). Each document can be encoded as a vector of 20,000 values (one count per word in the dictionary), and thus an entire dataset of 500 documents can be stored in a tensor of shape (500, 20000)."
      ]
    },
    {
      "cell_type": "markdown",
      "metadata": {
        "id": "0jHlk5D7tOAv"
      },
      "source": [
        "#### Timeseries data or sequence data\r\n",
        "\r\n",
        "Whenever time matters in your data (or the notion of sequence order), it makes sense to store it in a rank-3 tensor with an explicit time axis. Each sample can be encoded as a sequence of vectors (a rank-2 tensor), and thus a batch of data will be encoded as a rank-3 tensor.\r\n",
        "\r\n",
        "The time axis is always the second axis (axis of index 1), by convention. Let’s look at a few examples:\r\n",
        "\r\n",
        "A dataset of stock prices. Every minute, we store the current price of the stock, the highest price in the past minute, and the lowest price in the past minute. Thus every minute is encoded as a 3D vector, an entire day of trading is encoded as a matrix of shape (390, 3) (there are 390 minutes in a trading day), and 250 days' worth of data can be stored in a rank-3 tensor of shape (250, 390, 3). Here, each sample would be one day’s worth of data.\r\n",
        "\r\n",
        "A dataset of tweets, where we encode each tweet as a sequence of 280 characters out of an alphabet of 128 unique characters. In this setting, each character can be encoded as a binary vector of size 128 (an all-zeros vector except for a 1 entry at the index corresponding to the character). Then each tweet can be encoded as a rank-2 tensor of shape (280, 128), and a dataset of 1 million tweets can be stored in a tensor of shape (1000000, 280, 128)"
      ]
    },
    {
      "cell_type": "markdown",
      "metadata": {
        "id": "aAOB_WT1tkCz"
      },
      "source": [
        "#### Image data\r\n",
        "\r\n",
        "Images typically have three dimensions: height, width, and color depth. Although grayscale images (like our MNIST digits) have only a single color channel and could thus be stored in rank-2 tensors, by convention image tensors are always rank-3, with a one-dimensional color channel for grayscale images. A batch of 128 grayscale images of size 256 × 256 could thus be stored in a tensor of shape (128, 256, 256, 1), and a batch of 128 color images could be stored in a tensor of shape (128, 256, 256, 3).\r\n",
        "\r\n",
        "There are two conventions for shapes of images tensors: the channels-last convention (which is standard in TensorFlow) and the channels-first convention.\r\n",
        "\r\n",
        "The channels-last convention places the color-depth axis at the end: (samples, height, width, color_depth). Meanwhile, the channels-first convention places the color depth axis right after the batch axis: (samples, color_depth, height, width). With the channels-last convention, the previous examples would become (128, 1, 256, 256) and (128, 3, 256, 256). The Keras API provides support for both formats."
      ]
    },
    {
      "cell_type": "markdown",
      "metadata": {
        "id": "ArlQ_Ls5uxub"
      },
      "source": [
        "#### Video data\r\n",
        "\r\n",
        "Video data is one of the few types of real-world data for which you’ll need rank-5 tensors. A video can be understood as a sequence of frames, each frame being a color image. Because each frame can be stored in a rank-3 tensor (height, width, color_depth), a sequence of frames can be stored in a rank-4 tensor (frames, height, width, color_depth), and thus a batch of different videos can be stored in a rank-5 tensor of shape (samples, frames, height, width, color_depth).\r\n",
        "\r\n",
        "For instance, a 60-second, 144 × 256 YouTube video clip sampled at 4 frames per second would have 240 frames. A batch of four such video clips would be stored in a tensor of shape (4, 240, 144, 256, 3). That’s a total of 106,168,320 values! If the dtype of the tensor was float32, then each value would be stored in 32 bits, so the tensor would represent 405 MB. Heavy! Videos you encounter in real life are much lighter, because they aren’t stored in float32, and they’re typically compressed by a large factor (such as in the MPEG format)."
      ]
    }
  ]
}