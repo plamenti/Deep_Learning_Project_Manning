{
  "nbformat": 4,
  "nbformat_minor": 0,
  "metadata": {
    "colab": {
      "name": "01.binary_classification_classifying_movie_reviews.ipynb",
      "provenance": []
    },
    "kernelspec": {
      "name": "python3",
      "display_name": "Python 3"
    }
  },
  "cells": [
    {
      "cell_type": "code",
      "metadata": {
        "id": "efdAa4rVEgnO"
      },
      "source": [
        "import numpy as np\r\n",
        "import pandas as pd\r\n",
        "import matplotlib.pyplot as plt\r\n",
        "\r\n",
        "import tensorflow as tf\r\n",
        "from tensorflow import keras\r\n",
        "from tensorflow.keras import layers\r\n",
        "from tensorflow.keras.datasets import imdb"
      ],
      "execution_count": 1,
      "outputs": []
    },
    {
      "cell_type": "markdown",
      "metadata": {
        "id": "AlyjCsD-Ex7z"
      },
      "source": [
        "### Classifying movie reviews: a binary classification example\r\n",
        "\r\n",
        "Two-class classification, or binary classification, is one of the most common kinds of machine-learning problem. In this example, you’ll learn to classify movie reviews as positive or negative, based on the text content of the reviews.\r\n",
        "\r\n",
        "IMDB dataset: a set of 50,000 highly polarized reviews from the Internet Movie Database. They’re split into 25,000 reviews for training and 25,000 reviews for testing, each set consisting of 50% negative and 50% positive reviews.\r\n",
        "\r\n",
        "Just like the MNIST dataset, the IMDB dataset comes packaged with Keras. It has already been preprocessed: the reviews (sequences of words) have been turned into sequences of integers, where each integer stands for a specific word in a dictionary. This enables us to focus on model building, training, and evaluation.\r\n",
        "\r\n"
      ]
    },
    {
      "cell_type": "code",
      "metadata": {
        "colab": {
          "base_uri": "https://localhost:8080/"
        },
        "id": "bV7NlJZIFio-",
        "outputId": "d289e97f-981c-4d66-dac1-51619439b09e"
      },
      "source": [
        "(train_data, train_labels), (test_data, test_labels) = imdb.load_data(num_words=10000)"
      ],
      "execution_count": 2,
      "outputs": [
        {
          "output_type": "stream",
          "text": [
            "Downloading data from https://storage.googleapis.com/tensorflow/tf-keras-datasets/imdb.npz\n",
            "17465344/17464789 [==============================] - 0s 0us/step\n"
          ],
          "name": "stdout"
        },
        {
          "output_type": "stream",
          "text": [
            "<string>:6: VisibleDeprecationWarning: Creating an ndarray from ragged nested sequences (which is a list-or-tuple of lists-or-tuples-or ndarrays with different lengths or shapes) is deprecated. If you meant to do this, you must specify 'dtype=object' when creating the ndarray\n",
            "/usr/local/lib/python3.6/dist-packages/tensorflow/python/keras/datasets/imdb.py:159: VisibleDeprecationWarning: Creating an ndarray from ragged nested sequences (which is a list-or-tuple of lists-or-tuples-or ndarrays with different lengths or shapes) is deprecated. If you meant to do this, you must specify 'dtype=object' when creating the ndarray\n",
            "  x_train, y_train = np.array(xs[:idx]), np.array(labels[:idx])\n",
            "/usr/local/lib/python3.6/dist-packages/tensorflow/python/keras/datasets/imdb.py:160: VisibleDeprecationWarning: Creating an ndarray from ragged nested sequences (which is a list-or-tuple of lists-or-tuples-or ndarrays with different lengths or shapes) is deprecated. If you meant to do this, you must specify 'dtype=object' when creating the ndarray\n",
            "  x_test, y_test = np.array(xs[idx:]), np.array(labels[idx:])\n"
          ],
          "name": "stderr"
        }
      ]
    },
    {
      "cell_type": "markdown",
      "metadata": {
        "id": "QV3DPwAhGFIx"
      },
      "source": [
        "The argument num_words=10000 means you’ll only keep the top 10,000 most frequently occurring words in the training data. Rare words will be discarded. This allows you to work with vector data of manageable size. If we didn’t set this limit, we’d be working with 88,585 unique words in the training data, which is unnecessarily large. Many of these words only occur in a single sample, and thus can’t be meaningfully used for classification.\r\n",
        "\r\n",
        "The variables *train_data* and *test_data* are lists of reviews; each review is a list of word indices (encoding a sequence of words). *train_labels* and *test_labels* are lists of 0s and 1s, where 0 stands for negative and 1 stands for positive:"
      ]
    },
    {
      "cell_type": "code",
      "metadata": {
        "id": "OqIaNeA8Fu6O"
      },
      "source": [
        "# train_data[0]\r\n",
        "# train_labels[0]\r\n"
      ],
      "execution_count": 62,
      "outputs": []
    },
    {
      "cell_type": "markdown",
      "metadata": {
        "id": "IwiAAcDpG74N"
      },
      "source": [
        "For kicks, here’s how you can quickly decode one of these reviews back to English words:"
      ]
    },
    {
      "cell_type": "code",
      "metadata": {
        "colab": {
          "base_uri": "https://localhost:8080/"
        },
        "id": "SBa3XcZOGmDi",
        "outputId": "e70790a3-5c41-43a8-a4f7-743ab9aa44dc"
      },
      "source": [
        "word_index = imdb.get_word_index()  # word_index is a dictionary mapping words to an integer index.\r\n",
        "reverse_word_index = dict([(value, key) for (key, value) in word_index.items()])  # Reverses it, mapping integer indices to words\r\n",
        "decoded_review = ' '.join([reverse_word_index.get(i - 3, '?') for i in train_data[0]])  # Decodes the review. Note that the indices are offset by 3 because 0, 1, and 2 are reserved indices for “padding,” “start of sequence,” and “unknown.”."
      ],
      "execution_count": 4,
      "outputs": [
        {
          "output_type": "stream",
          "text": [
            "Downloading data from https://storage.googleapis.com/tensorflow/tf-keras-datasets/imdb_word_index.json\n",
            "1646592/1641221 [==============================] - 0s 0us/step\n"
          ],
          "name": "stdout"
        }
      ]
    },
    {
      "cell_type": "markdown",
      "metadata": {
        "id": "o1EhgJL3IbJY"
      },
      "source": [
        "### Preparing the data\r\n",
        "\r\n",
        "You can’t directly feed lists of integers into a neural network. They have all different lengths, but a neural network expects to process contiguous batches of data. You have to turn your lists into tensors. There are two ways to do that:\r\n",
        "\r\n",
        "Pad your lists so that they all have the same length, turn them into an integer tensor of shape (samples, 1), and then use it as the first layer in your model a layer capable of handling such integer tensors (the Embedding layer, which we’ll cover in detail later in the book).\r\n",
        "\r\n",
        "One-hot encode your lists to turn them into vectors of 0s and 1s. This would mean, for instance, turning the sequence [8, 5] into a 10,000-dimensional vector that would be all 0s except for indices 8 and 5, which would be 1s. Then you could use as the first layer in your model a Dense layer, capable of handling floating-point vector data.\r\n",
        "\r\n",
        "Let’s go with the latter solution to vectorize the data, which you’ll do manually for maximum clarity."
      ]
    },
    {
      "cell_type": "code",
      "metadata": {
        "id": "jJNYuMJjHprP"
      },
      "source": [
        "def vectorize_sequences(sequences, dimension=10000):\r\n",
        "    results = np.zeros((len(sequences), dimension)) # Creates an all-zero matrix of shape (len(sequences), dimension)\r\n",
        "    for i, sequence in enumerate(sequences):  # t = np.array([1,2,3,4,5,6]); print(list(enumerate(t))) -> [(0, 1), (1, 2), (2, 3), (3, 4), (4, 5), (5, 6)]\r\n",
        "        results[i, sequence] = 1. # Sets specific indices of results[i] to 1s\r\n",
        "    return results\r\n",
        "x_train = vectorize_sequences(train_data) # Vectorized training data\r\n",
        "x_test = vectorize_sequences(test_data) # Vectorized test data"
      ],
      "execution_count": 5,
      "outputs": []
    },
    {
      "cell_type": "markdown",
      "metadata": {
        "id": "x1hKJNR0OzcC"
      },
      "source": [
        "vectorize your labels"
      ]
    },
    {
      "cell_type": "code",
      "metadata": {
        "id": "hA9Tz8_3J58b"
      },
      "source": [
        "y_train = np.asarray(train_labels).astype('float32')\r\n",
        "y_test = np.asarray(test_labels).astype('float32')"
      ],
      "execution_count": 6,
      "outputs": []
    },
    {
      "cell_type": "markdown",
      "metadata": {
        "id": "y3Q5QNGLPVg9"
      },
      "source": [
        "### Building your model\r\n",
        "\r\n",
        "The input data is vectors, and the labels are scalars (1s and 0s): this is one of the simplest problem setups you’ll ever encounter. A type of model that performs well on such a problem is a plain stack of densely-connected (Dense) layers with relu activations.\r\n",
        "\r\n",
        "There are two key architecture decisions to be made about such a stack of Dense layers:\r\n",
        "\r\n",
        "How many layers to use\r\n",
        "\r\n",
        "How many units to choose for each layer\r\n",
        "\r\n",
        "In chapter 5, you’ll learn formal principles to guide you in making these choices. For the time being, you’ll have to trust me with the following architecture choice:\r\n",
        "\r\n",
        "Two intermediate layers with 16 units each\r\n",
        "\r\n",
        "A third layer that will output the scalar prediction regarding the sentiment of the current review"
      ]
    },
    {
      "cell_type": "code",
      "metadata": {
        "id": "2T_iXBg7PPWp"
      },
      "source": [
        "# Model definition\r\n",
        "\r\n",
        "model = keras.Sequential([\r\n",
        "                          layers.Dense(16, activation=\"relu\"),\r\n",
        "                          layers.Dense(16, activation=\"relu\"),\r\n",
        "                          layers.Dense(1, activation=\"sigmoid\")\r\n",
        "                          ])"
      ],
      "execution_count": 7,
      "outputs": []
    },
    {
      "cell_type": "markdown",
      "metadata": {
        "id": "fLV3Nt0YQ2sv"
      },
      "source": [
        "The first argument being passed to each Dense layer is the number of units in the layer: the dimensionality of representation space of the layer. You remember from chapter 2 and 3 that each such Dense layer with a relu activation implements the following chain of tensor operations:"
      ]
    },
    {
      "cell_type": "code",
      "metadata": {
        "id": "Q768-8bQQvoc"
      },
      "source": [
        "# output = relu(dot(W, input) + b)"
      ],
      "execution_count": 8,
      "outputs": []
    },
    {
      "cell_type": "markdown",
      "metadata": {
        "id": "0uVljkRRRF9g"
      },
      "source": [
        "Having 16 units means the weight matrix W will have shape (input_dimension, 16): the dot product with W will project the input data onto a 16-dimensional representation space (and then you’ll add the bias vector b and apply the relu operation). You can intuitively understand the dimensionality of your representation space as “how much freedom you’re allowing the model to have when learning internal representations.” Having more units (a higher-dimensional representation space) allows your model to learn more-complex representations, but it makes the model more computationally expensive and may lead to learning unwanted patterns (patterns that will improve performance on the training data but not on the test data).\r\n",
        "\r\n",
        "The intermediate layers use relu as their activation function, and the final layer uses a sigmoid activation so as to output a probability (a score between 0 and 1, indicating how likely the sample is to have the target “1”: how likely the review is to be positive). A relu (rectified linear unit) is a function meant to zero out negative values (see figure 3.4), whereas a sigmoid “squashes” arbitrary values into the [0, 1] interval (see figure 3.5), outputting something that can be interpreted as a probability."
      ]
    },
    {
      "cell_type": "markdown",
      "metadata": {
        "id": "t7YhMOA9LYm3"
      },
      "source": [
        "#### WHAT ARE ACTIVATION FUNCTIONS, AND WHY ARE THEY NECESSARY?\r\n",
        "\r\n",
        "Without an activation function like relu (also called a non-linearity), the Dense layer would consist of two linear operations — a dot product and an addition:\r\n",
        "$$output = dot(W, input) + b$$\r\n",
        "\r\n",
        "So the layer could only learn linear transformations (affine transformations) of the input data: the hypothesis space of the layer would be the set of all possible linear transformations of the input data into a 16-dimensional space. Such a hypothesis space is too restricted and wouldn’t benefit from multiple layers of representations, because a deep stack of linear layers would still implement a linear operation: adding more layers wouldn’t extend the hypothesis space.\r\n",
        "\r\n",
        "In order to get access to a much richer hypothesis space that would benefit from deep representations, you need a non-linearity, or activation function. ***relu*** is the most popular activation function in deep learning, but there are many other candidates, which all come with similarly strange names: ***prelu***, ***elu***, and so on."
      ]
    },
    {
      "cell_type": "markdown",
      "metadata": {
        "id": "32BDbU_WMkUr"
      },
      "source": [
        "Finally, you need to choose a loss function and an optimizer. Because you’re facing a binary classification problem and the output of your model is a probability (you end your model with a single-unit layer with a sigmoid activation), it’s best to use the ***binary_crossentropy*** loss. It isn’t the only viable choice: you could use, for instance, ***mean_squared_error***. But crossentropy is usually the best choice when you’re dealing with models that output probabilities. Crossentropy is a quantity from the field of Information Theory that measures the distance between probability distributions or, in this case, between the ground-truth distribution and your predictions.\r\n",
        "\r\n",
        "As for the choice of the optimizer, we’ll go with ***rmsprop***, which is a usually a good default choice for virtually any problem.\r\n",
        "\r\n",
        "Here’s the step where you configure the model with the ***rmsprop*** optimizer and the ***binary_crossentropy*** loss function. Note that you’ll also monitor accuracy during training."
      ]
    },
    {
      "cell_type": "code",
      "metadata": {
        "id": "7M0uPJEBQ4V9"
      },
      "source": [
        "model.compile(optimizer=\"rmsprop\", loss=\"binary_crossentropy\", metrics=[\"acc\"])"
      ],
      "execution_count": 65,
      "outputs": []
    },
    {
      "cell_type": "markdown",
      "metadata": {
        "id": "HkHXN0-ZNDbA"
      },
      "source": [
        "### Validating your approach\r\n",
        "\r\n",
        "Deep learning model should never be evaluated on its training data — it’s standard practice to use a “validation set” to monitor the accuracy of the model during training. Here, you’ll create a validation set by setting apart 10,000 samples from the original training data."
      ]
    },
    {
      "cell_type": "code",
      "metadata": {
        "id": "Qi4iSuWDNAHz"
      },
      "source": [
        "x_val = x_train[:10000]\r\n",
        "partial_x_train = x_train[10000:]\r\n",
        "y_val = y_train[:10000]\r\n",
        "partial_y_train = y_train[10000:]"
      ],
      "execution_count": 64,
      "outputs": []
    },
    {
      "cell_type": "markdown",
      "metadata": {
        "id": "ckbgWsI2NffJ"
      },
      "source": [
        "You’ll now train the model for 20 epochs (20 iterations over all samples in the ***x_train*** and ***y_train*** tensors), in mini-batches of 512 samples. At the same time, you’ll monitor loss and accuracy on the 10,000 samples that you set apart. You do so by passing the validation data as the ***validation_data*** argument."
      ]
    },
    {
      "cell_type": "code",
      "metadata": {
        "id": "fN24GkU5NbJD",
        "outputId": "384a1818-d4ce-4dba-cd2b-fa0a55b12c9e",
        "colab": {
          "base_uri": "https://localhost:8080/"
        }
      },
      "source": [
        "history = model.fit(partial_x_train,\r\n",
        "                    partial_y_train,\r\n",
        "                    epochs=20,\r\n",
        "                    batch_size=512,\r\n",
        "                    validation_data=(x_val, y_val))"
      ],
      "execution_count": 66,
      "outputs": [
        {
          "output_type": "stream",
          "text": [
            "Epoch 1/20\n",
            "30/30 [==============================] - 4s 92ms/step - loss: 0.5797 - acc: 0.7018 - val_loss: 0.3769 - val_acc: 0.8691\n",
            "Epoch 2/20\n",
            "30/30 [==============================] - 1s 28ms/step - loss: 0.3149 - acc: 0.9019 - val_loss: 0.3010 - val_acc: 0.8885\n",
            "Epoch 3/20\n",
            "30/30 [==============================] - 1s 30ms/step - loss: 0.2191 - acc: 0.9332 - val_loss: 0.3316 - val_acc: 0.8642\n",
            "Epoch 4/20\n",
            "30/30 [==============================] - 1s 29ms/step - loss: 0.1810 - acc: 0.9432 - val_loss: 0.2764 - val_acc: 0.8881\n",
            "Epoch 5/20\n",
            "30/30 [==============================] - 1s 29ms/step - loss: 0.1412 - acc: 0.9564 - val_loss: 0.2974 - val_acc: 0.8826\n",
            "Epoch 6/20\n",
            "30/30 [==============================] - 1s 29ms/step - loss: 0.1099 - acc: 0.9704 - val_loss: 0.3008 - val_acc: 0.8834\n",
            "Epoch 7/20\n",
            "30/30 [==============================] - 1s 28ms/step - loss: 0.0896 - acc: 0.9786 - val_loss: 0.3529 - val_acc: 0.8726\n",
            "Epoch 8/20\n",
            "30/30 [==============================] - 1s 28ms/step - loss: 0.0772 - acc: 0.9803 - val_loss: 0.3456 - val_acc: 0.8784\n",
            "Epoch 9/20\n",
            "30/30 [==============================] - 1s 29ms/step - loss: 0.0568 - acc: 0.9886 - val_loss: 0.3719 - val_acc: 0.8756\n",
            "Epoch 10/20\n",
            "30/30 [==============================] - 1s 29ms/step - loss: 0.0429 - acc: 0.9927 - val_loss: 0.4019 - val_acc: 0.8717\n",
            "Epoch 11/20\n",
            "30/30 [==============================] - 1s 29ms/step - loss: 0.0353 - acc: 0.9932 - val_loss: 0.4143 - val_acc: 0.8762\n",
            "Epoch 12/20\n",
            "30/30 [==============================] - 1s 28ms/step - loss: 0.0284 - acc: 0.9950 - val_loss: 0.5361 - val_acc: 0.8576\n",
            "Epoch 13/20\n",
            "30/30 [==============================] - 1s 28ms/step - loss: 0.0232 - acc: 0.9968 - val_loss: 0.4673 - val_acc: 0.8734\n",
            "Epoch 14/20\n",
            "30/30 [==============================] - 1s 30ms/step - loss: 0.0150 - acc: 0.9985 - val_loss: 0.5232 - val_acc: 0.8658\n",
            "Epoch 15/20\n",
            "30/30 [==============================] - 1s 29ms/step - loss: 0.0134 - acc: 0.9985 - val_loss: 0.5374 - val_acc: 0.8709\n",
            "Epoch 16/20\n",
            "30/30 [==============================] - 1s 29ms/step - loss: 0.0090 - acc: 0.9992 - val_loss: 0.5706 - val_acc: 0.8699\n",
            "Epoch 17/20\n",
            "30/30 [==============================] - 1s 29ms/step - loss: 0.0068 - acc: 0.9996 - val_loss: 0.5983 - val_acc: 0.8691\n",
            "Epoch 18/20\n",
            "30/30 [==============================] - 1s 30ms/step - loss: 0.0041 - acc: 1.0000 - val_loss: 0.6648 - val_acc: 0.8637\n",
            "Epoch 19/20\n",
            "30/30 [==============================] - 1s 28ms/step - loss: 0.0056 - acc: 0.9994 - val_loss: 0.6708 - val_acc: 0.8667\n",
            "Epoch 20/20\n",
            "30/30 [==============================] - 1s 28ms/step - loss: 0.0024 - acc: 0.9999 - val_loss: 0.6961 - val_acc: 0.8662\n"
          ],
          "name": "stdout"
        }
      ]
    },
    {
      "cell_type": "markdown",
      "metadata": {
        "id": "COZUn1jfOp1o"
      },
      "source": [
        "Note that the call to model.fit() returns a History object. This object has a member history, which is a dictionary containing data about everything that happened during training. Let’s look at it:"
      ]
    },
    {
      "cell_type": "code",
      "metadata": {
        "id": "tUeouVHEOsxL",
        "outputId": "771b8818-1890-4b46-8cbe-c35d3bbb9db1",
        "colab": {
          "base_uri": "https://localhost:8080/"
        }
      },
      "source": [
        "history_dict = history.history\r\n",
        "history_dict.keys()"
      ],
      "execution_count": 68,
      "outputs": [
        {
          "output_type": "execute_result",
          "data": {
            "text/plain": [
              "dict_keys(['loss', 'acc', 'val_loss', 'val_acc'])"
            ]
          },
          "metadata": {
            "tags": []
          },
          "execution_count": 68
        }
      ]
    },
    {
      "cell_type": "markdown",
      "metadata": {
        "id": "fKX8ko2qPLo4"
      },
      "source": [
        "The dictionary contains four entries: one per metric that was being monitored during training and during validation."
      ]
    },
    {
      "cell_type": "code",
      "metadata": {
        "id": "Lvi2ssm0OwTD",
        "outputId": "a7af3834-3500-4382-9381-6f0d14cc4162",
        "colab": {
          "base_uri": "https://localhost:8080/",
          "height": 295
        }
      },
      "source": [
        "# Plotting the training and validation loss\r\n",
        "\r\n",
        "history_dict = history.history\r\n",
        "loss_values = history_dict['loss']\r\n",
        "val_loss_values = history_dict['val_loss']\r\n",
        "epochs = range(1, len(loss_values) + 1)\r\n",
        "plt.plot(epochs, loss_values, 'bo', label='Training loss')  # “bo” is for “blue dot.”\r\n",
        "plt.plot(epochs, val_loss_values, 'b', label='Validation loss') # “b” is for “solid blue line.”\r\n",
        "plt.title('Training and validation loss')\r\n",
        "plt.xlabel('Epochs')\r\n",
        "plt.ylabel('Loss')\r\n",
        "plt.legend()\r\n",
        "plt.show()"
      ],
      "execution_count": 71,
      "outputs": [
        {
          "output_type": "display_data",
          "data": {
            "image/png": "[encoded data removed]",
            "text/plain": [
              "<Figure size 432x288 with 1 Axes>"
            ]
          },
          "metadata": {
            "tags": [],
            "needs_background": "light"
          }
        }
      ]
    },
    {
      "cell_type": "code",
      "metadata": {
        "id": "bISSe5LTO8Do",
        "outputId": "406d26b3-470f-48c0-f5b3-f3d6e486f020",
        "colab": {
          "base_uri": "https://localhost:8080/",
          "height": 295
        }
      },
      "source": [
        "# Plotting the training and validation accuracy\r\n",
        "\r\n",
        "plt.clf()\r\n",
        "acc = history_dict['acc']\r\n",
        "val_acc = history_dict['val_acc']\r\n",
        "plt.plot(epochs, acc, 'bo', label='Training acc')\r\n",
        "plt.plot(epochs, val_acc, 'b', label='Validation acc')\r\n",
        "plt.title('Training and validation accuracy')\r\n",
        "plt.xlabel('Epochs')\r\n",
        "plt.ylabel('Accuracy')\r\n",
        "plt.legend()\r\n",
        "plt.show()"
      ],
      "execution_count": 72,
      "outputs": [
        {
          "output_type": "display_data",
          "data": {
            "image/png": "[encoded data removed]",
            "text/plain": [
              "<Figure size 432x288 with 1 Axes>"
            ]
          },
          "metadata": {
            "tags": [],
            "needs_background": "light"
          }
        }
      ]
    },
    {
      "cell_type": "markdown",
      "metadata": {
        "id": "kUkU4fKpQJKd"
      },
      "source": [
        "As you can see, the training loss decreases with every epoch, and the training accuracy increases with every epoch. That’s what you would expect when running gradient-descent optimization — the quantity you’re trying to minimize should be less with every iteration. But that isn’t the case for the validation loss and accuracy: they seem to peak at the fourth epoch. This is an example of what we warned against earlier: a model that performs better on the training data isn’t necessarily a model that will do better on data it has never seen before. In precise terms, what you’re seeing is ***overfitting***: after the fourth epoch, you’re over-optimizing on the training data, and you end up learning representations that are specific to the training data and don’t generalize to data outside of the training set.\r\n",
        "\r\n",
        "In this case, to prevent overfitting, you could stop training after three epochs. In general, you can use a range of techniques to mitigate overfitting, which we’ll cover in chapter 4.\r\n",
        "\r\n",
        "Let’s train a new model from scratch for four epochs and then evaluate it on the test data."
      ]
    },
    {
      "cell_type": "code",
      "metadata": {
        "id": "YsB9CxNxPrUD",
        "outputId": "f952deed-06fb-42fa-8705-dedeaae6e16f",
        "colab": {
          "base_uri": "https://localhost:8080/"
        }
      },
      "source": [
        "model = keras.Sequential([\r\n",
        "    layers.Dense(16, activation='relu'),\r\n",
        "    layers.Dense(16, activation='relu'),\r\n",
        "    layers.Dense(1, activation='sigmoid')\r\n",
        "])\r\n",
        "model.compile(optimizer='rmsprop',\r\n",
        "              loss='binary_crossentropy',\r\n",
        "              metrics=['accuracy'])\r\n",
        "model.fit(x_train, y_train, epochs=4, batch_size=512)\r\n",
        "results = model.evaluate(x_test, y_test)"
      ],
      "execution_count": 73,
      "outputs": [
        {
          "output_type": "stream",
          "text": [
            "Epoch 1/4\n",
            "49/49 [==============================] - 2s 23ms/step - loss: 0.5368 - accuracy: 0.7524\n",
            "Epoch 2/4\n",
            "49/49 [==============================] - 1s 23ms/step - loss: 0.2576 - accuracy: 0.9155\n",
            "Epoch 3/4\n",
            "49/49 [==============================] - 1s 22ms/step - loss: 0.1966 - accuracy: 0.9292\n",
            "Epoch 4/4\n",
            "49/49 [==============================] - 1s 23ms/step - loss: 0.1531 - accuracy: 0.9481\n",
            "782/782 [==============================] - 1s 2ms/step - loss: 0.3057 - accuracy: 0.8798\n"
          ],
          "name": "stdout"
        }
      ]
    },
    {
      "cell_type": "code",
      "metadata": {
        "id": "bWot6hqyQumk",
        "outputId": "d04a5948-f86d-40e4-c823-fa0bac079afb",
        "colab": {
          "base_uri": "https://localhost:8080/"
        }
      },
      "source": [
        "results"
      ],
      "execution_count": 74,
      "outputs": [
        {
          "output_type": "execute_result",
          "data": {
            "text/plain": [
              "[0.30572283267974854, 0.8798400163650513]"
            ]
          },
          "metadata": {
            "tags": []
          },
          "execution_count": 74
        }
      ]
    },
    {
      "cell_type": "markdown",
      "metadata": {
        "id": "sGtFsPoyQ8lz"
      },
      "source": [
        "This fairly naive approach achieves an accuracy of 88%. With state-of-the-art approaches, you should be able to get close to 95%."
      ]
    },
    {
      "cell_type": "markdown",
      "metadata": {
        "id": "pnnZXIhaQ9df"
      },
      "source": [
        "### Using a trained model to generate predictions on new data\r\n",
        "\r\n",
        "After having trained a model, you’ll want to use it in a practical setting. You can generate the likelihood of reviews being positive by using the ***predict*** method"
      ]
    },
    {
      "cell_type": "code",
      "metadata": {
        "id": "-quUV_U9Q2RD",
        "outputId": "7ca1f377-ffc6-4eaf-8139-e45a63ac2094",
        "colab": {
          "base_uri": "https://localhost:8080/"
        }
      },
      "source": [
        "# As you can see, the model is confident for some samples (0.99 or more, or 0.01 or less) but less confident for others (0.6, 0.4).\r\n",
        "model.predict(x_test)"
      ],
      "execution_count": 76,
      "outputs": [
        {
          "output_type": "execute_result",
          "data": {
            "text/plain": [
              "array([[0.24927855],\n",
              "       [0.9998295 ],\n",
              "       [0.9477451 ],\n",
              "       ...,\n",
              "       [0.18919235],\n",
              "       [0.095815  ],\n",
              "       [0.7352834 ]], dtype=float32)"
            ]
          },
          "metadata": {
            "tags": []
          },
          "execution_count": 76
        }
      ]
    },
    {
      "cell_type": "markdown",
      "metadata": {
        "id": "qnEMUu3nRmVR"
      },
      "source": [
        "#### Further experiments\r\n",
        "\r\n",
        "The following experiments will help convince you that the architecture choices you’ve made are all fairly reasonable, although there’s still room for improvement:\r\n",
        "\r\n",
        "You used two representation layers before the final classification layer. Try using one or three representation layers, and see how doing so affects validation and test accuracy.\r\n",
        "\r\n",
        "Try using layers with more units or fewer units: 32 units, 64 units, and so on.\r\n",
        "\r\n",
        "Try using the ***mse*** loss function instead of ***binary_crossentropy***.\r\n",
        "\r\n",
        "Try using the ***tanh*** activation (an activation that was popular in the early days of neural networks) instead of ***relu***."
      ]
    },
    {
      "cell_type": "markdown",
      "metadata": {
        "id": "EYCp7T9BR8GQ"
      },
      "source": [
        "### Wrapping up\r\n",
        "\r\n",
        "Here’s what you should take away from this example:\r\n",
        "\r\n",
        "You usually need to do quite a bit of preprocessing on your raw data in order to be able to feed it — as tensors — into a neural network. Sequences of words can be encoded as binary vectors, but there are other encoding options, too.\r\n",
        "Stacks of ***Dense*** layers with ***relu*** activations can solve a wide range of problems (including sentiment classification), and you’ll likely use them frequently.\r\n",
        "In a binary classification problem (two output classes), your model should end with a ***Dense*** layer with one unit and a ***sigmoid*** activation: the output of your model should be a scalar between 0 and 1, encoding a probability.\r\n",
        "With such a scalar sigmoid output on a binary classification problem, the loss function you should use is ***binary_crossentropy***.\r\n",
        "The ***rmsprop*** optimizer is generally a good enough choice, whatever your problem. That’s one less thing for you to worry about.\r\n",
        "As they get better on their training data, neural networks eventually start overfitting and end up obtaining increasingly worse results on data they’ve never seen before. Be sure to always monitor performance on data that is outside of the training set."
      ]
    }
  ]
}