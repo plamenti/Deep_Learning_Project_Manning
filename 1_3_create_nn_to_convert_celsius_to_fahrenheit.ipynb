{
  "nbformat": 4,
  "nbformat_minor": 0,
  "metadata": {
    "colab": {
      "name": "1_3_create_nn_to_convert_celsius_to_fahrenheit.ipynb",
      "provenance": []
    },
    "kernelspec": {
      "name": "python3",
      "display_name": "Python 3"
    }
  },
  "cells": [
    {
      "cell_type": "code",
      "metadata": {
        "id": "rXm7zpOh-1vz"
      },
      "source": [
        "import numpy as np\r\n",
        "from numpy import ndarray\r\n",
        "\r\n",
        "import tensorflow as tf\r\n",
        "from tensorflow.keras import Sequential\r\n",
        "from tensorflow.keras.layers import Dense\r\n",
        "from tensorflow.keras.optimizers import Adam"
      ],
      "execution_count": 1,
      "outputs": []
    },
    {
      "cell_type": "markdown",
      "metadata": {
        "id": "LwYGJ0q2_vuE"
      },
      "source": [
        "Create a neural network that can convert Celsius to Fahrenheit and examine the weights.\r\n",
        "\r\n",
        "Using TensorFlow andKeras build a single layered network with a single input and a single output and a single neuron.\r\n",
        "\r\n",
        "Using NumPy generate ~20 input/output values to test\r\n",
        "Train the neural network on your data.\r\n",
        "\r\n",
        "Test the neural network to see if it is working.\r\n",
        "\r\n",
        "Examine the weights to see if they match F = C * 1.8 + 32F=C∗1.8+32."
      ]
    },
    {
      "cell_type": "code",
      "metadata": {
        "id": "t4FDL1q1_c3g"
      },
      "source": [
        "def celsius_to_farenheit(temperature_in_celsius: ndarray) -> ndarray:\r\n",
        "  return (temperature_in_celsius * 1.8) + 32"
      ],
      "execution_count": 2,
      "outputs": []
    },
    {
      "cell_type": "code",
      "metadata": {
        "id": "Yy1slmf_AgkY"
      },
      "source": [
        "t_in_c = np.arange(1.0, 20.0)"
      ],
      "execution_count": 3,
      "outputs": []
    },
    {
      "cell_type": "code",
      "metadata": {
        "colab": {
          "base_uri": "https://localhost:8080/"
        },
        "id": "GJrsLbu7Buso",
        "outputId": "48f962e9-fa36-4465-962b-cf62ef3909b9"
      },
      "source": [
        "t_in_c"
      ],
      "execution_count": 4,
      "outputs": [
        {
          "output_type": "execute_result",
          "data": {
            "text/plain": [
              "array([ 1.,  2.,  3.,  4.,  5.,  6.,  7.,  8.,  9., 10., 11., 12., 13.,\n",
              "       14., 15., 16., 17., 18., 19.])"
            ]
          },
          "metadata": {
            "tags": []
          },
          "execution_count": 4
        }
      ]
    },
    {
      "cell_type": "code",
      "metadata": {
        "id": "Oe-OdhEkBvqR"
      },
      "source": [
        "t_in_f = celsius_to_farenheit(t_in_c)"
      ],
      "execution_count": 5,
      "outputs": []
    },
    {
      "cell_type": "code",
      "metadata": {
        "colab": {
          "base_uri": "https://localhost:8080/"
        },
        "id": "5Qf6iyFSFyeU",
        "outputId": "f3ce1717-dd90-4bbd-cd39-39de2f811aec"
      },
      "source": [
        "t_in_f"
      ],
      "execution_count": 6,
      "outputs": [
        {
          "output_type": "execute_result",
          "data": {
            "text/plain": [
              "array([33.8, 35.6, 37.4, 39.2, 41. , 42.8, 44.6, 46.4, 48.2, 50. , 51.8,\n",
              "       53.6, 55.4, 57.2, 59. , 60.8, 62.6, 64.4, 66.2])"
            ]
          },
          "metadata": {
            "tags": []
          },
          "execution_count": 6
        }
      ]
    },
    {
      "cell_type": "code",
      "metadata": {
        "colab": {
          "base_uri": "https://localhost:8080/"
        },
        "id": "ahBJfsgRLndB",
        "outputId": "8f0fa1bd-a2c5-4b3c-ae12-19a252e51ba3"
      },
      "source": [
        "model = Sequential([Dense(units=1, input_shape=[1])])\r\n",
        "model.compile(optimizer=Adam(0.1), loss='mse')\r\n",
        "model.fit(t_in_c, t_in_f, epochs=1500, verbose=False)"
      ],
      "execution_count": 7,
      "outputs": [
        {
          "output_type": "execute_result",
          "data": {
            "text/plain": [
              "<tensorflow.python.keras.callbacks.History at 0x7fd5b7f19978>"
            ]
          },
          "metadata": {
            "tags": []
          },
          "execution_count": 7
        }
      ]
    },
    {
      "cell_type": "code",
      "metadata": {
        "colab": {
          "base_uri": "https://localhost:8080/"
        },
        "id": "toICpN2mapBU",
        "outputId": "1a9e7736-7000-4c44-a063-4d1bf49eb523"
      },
      "source": [
        "test_value = 37.0\r\n",
        "expected_value = 98.6\r\n",
        "predicted_value = model.predict([test_value]).item()\r\n",
        "print(f\"Expected value: {expected_value}, predicted value: {predicted_value}. Error: {expected_value - predicted_value}\")"
      ],
      "execution_count": 8,
      "outputs": [
        {
          "output_type": "stream",
          "text": [
            "Expected value: 98.6, predicted value: 98.702392578125. Error: -0.10239257812500568\n"
          ],
          "name": "stdout"
        }
      ]
    },
    {
      "cell_type": "code",
      "metadata": {
        "colab": {
          "base_uri": "https://localhost:8080/"
        },
        "id": "Msqh-tkHS7_O",
        "outputId": "4770ab14-bba4-4c93-8428-c798ca74bde0"
      },
      "source": [
        "print(f\"First model weight: {model.get_weights()[0].item()}, second model weight: {model.get_weights()[1].item()}\")"
      ],
      "execution_count": 9,
      "outputs": [
        {
          "output_type": "stream",
          "text": [
            "First model weight: 1.8042359352111816, second model weight: 31.945659637451172\n"
          ],
          "name": "stdout"
        }
      ]
    }
  ]
}